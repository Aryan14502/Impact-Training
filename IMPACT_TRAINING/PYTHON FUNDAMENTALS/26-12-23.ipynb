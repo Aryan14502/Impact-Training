{
 "cells": [
  {
   "cell_type": "code",
   "execution_count": 25,
   "metadata": {},
   "outputs": [
    {
     "name": "stdout",
     "output_type": "stream",
     "text": [
      "28\n",
      "32\n"
     ]
    }
   ],
   "source": [
    "import sys\n",
    "a = 0\n",
    "print(sys.getsizeof(a))\n",
    "b = 1242983128301\n",
    "print(sys.getsizeof(b))\n"
   ]
  },
  {
   "cell_type": "code",
   "execution_count": 26,
   "metadata": {},
   "outputs": [
    {
     "name": "stdout",
     "output_type": "stream",
     "text": [
      "13 7 3.3333333333333335 30 1\n",
      "3 1000\n"
     ]
    }
   ],
   "source": [
    "a,b=10,3\n",
    "print(a+b,a-b,a/b,a*b,a%b)\n",
    "print(a//b,a**b)"
   ]
  },
  {
   "cell_type": "code",
   "execution_count": 27,
   "metadata": {},
   "outputs": [
    {
     "name": "stdout",
     "output_type": "stream",
     "text": [
      "yes\n"
     ]
    }
   ],
   "source": [
    "watermelon = int(input(\"enter the weight of melon\"))\n",
    "\n",
    "def even():\n",
    "    if(watermelon==2):\n",
    "        print(\"no\")\n",
    "    elif(watermelon%2==0):\n",
    "        print(\"yes\")\n",
    "    else:\n",
    "        print(\"no\")\n",
    "\n",
    "even() "
   ]
  },
  {
   "cell_type": "code",
   "execution_count": 28,
   "metadata": {},
   "outputs": [
    {
     "name": "stdout",
     "output_type": "stream",
     "text": [
      "1\n"
     ]
    },
    {
     "ename": "TypeError",
     "evalue": "int() argument must be a string, a bytes-like object or a real number, not 'method'",
     "output_type": "error",
     "traceback": [
      "\u001b[1;31m---------------------------------------------------------------------------\u001b[0m",
      "\u001b[1;31mTypeError\u001b[0m                                 Traceback (most recent call last)",
      "Cell \u001b[1;32mIn[28], line 16\u001b[0m\n\u001b[0;32m     14\u001b[0m \u001b[38;5;66;03m#best solution\u001b[39;00m\n\u001b[0;32m     15\u001b[0m \u001b[38;5;28;01mimport\u001b[39;00m \u001b[38;5;21;01mmath\u001b[39;00m\n\u001b[1;32m---> 16\u001b[0m \u001b[38;5;28mprint\u001b[39m(\u001b[38;5;28mint\u001b[39m(math\u001b[38;5;241m.\u001b[39msqrt(\u001b[38;5;28;43mint\u001b[39;49m\u001b[43m(\u001b[49m\u001b[38;5;28;43minput\u001b[39;49m\u001b[43m)\u001b[49m)))\n\u001b[0;32m     18\u001b[0m \u001b[38;5;66;03m#Question\u001b[39;00m\n\u001b[0;32m     19\u001b[0m \u001b[38;5;66;03m#there are 100 doors and 100 students and the student changes the state of door (open/close) while passing through it one by one \u001b[39;00m\n",
      "\u001b[1;31mTypeError\u001b[0m: int() argument must be a string, a bytes-like object or a real number, not 'method'"
     ]
    }
   ],
   "source": [
    "a = int(input(\"Enter a number: \"))\n",
    "ans = 0\n",
    "\n",
    "for i in range(a):\n",
    "    count = 0\n",
    "    for j in range(i+1):\n",
    "        if (i+1) % (j+1) == 0:\n",
    "            count += 1\n",
    "    if count % 2 != 0:\n",
    "        ans += 1\n",
    "\n",
    "print(ans)\n",
    "\n",
    "#best solution\n",
    "import math\n",
    "print(int(math.sqrt(int(input))))\n",
    "\n",
    "#Question\n",
    "#there are 100 doors and 100 students and the student changes the state of door (open/close) while passing through it one by one \n",
    "\n"
   ]
  },
  {
   "cell_type": "code",
   "execution_count": null,
   "metadata": {},
   "outputs": [
    {
     "name": "stdout",
     "output_type": "stream",
     "text": [
      "['python', 312, 456, 78, True, False, 7, 7]\n",
      "['python', 312, 456, 78, True, False, 7, 7] ('python', 312, 456, 78, True, False, 7, 7) <class 'tuple'>\n",
      "['python', 312, 'float value', 78, True, False, 7, 7]\n"
     ]
    }
   ],
   "source": [
    "#List vs Tuple \n",
    "#list occupy more memory than tuple\n",
    "#list is mutable and tuple is immutable\n",
    "\n",
    "list = [\"python\",312,456,78,True,False,7,7]\n",
    "print(list)\n",
    "list1 = \"python\",312,456,78,True,False,7,7\n",
    "print(list,list1,type(list1))\n",
    "list[2]=\"float value\"\n",
    "print(list)"
   ]
  },
  {
   "cell_type": "code",
   "execution_count": null,
   "metadata": {},
   "outputs": [
    {
     "name": "stdout",
     "output_type": "stream",
     "text": [
      "56 64 72 64\n",
      "40 48 56\n"
     ]
    }
   ],
   "source": [
    "import sys\n",
    "l1,l2,l3,l4 = [],[100],[100,200],[2000]\n",
    "print(sys.getsizeof(l1),sys.getsizeof(l2),sys.getsizeof(l3), sys.getsizeof(l4))\n",
    "t1,t2,t3 = (),(100,),(100,200)\n",
    "print(sys.getsizeof(t1),sys.getsizeof(t2),sys.getsizeof(t3))"
   ]
  },
  {
   "cell_type": "code",
   "execution_count": 44,
   "metadata": {},
   "outputs": [
    {
     "name": "stdout",
     "output_type": "stream",
     "text": [
      "noo\n",
      "no\n",
      "Adult\n",
      "Even\n"
     ]
    }
   ],
   "source": [
    "#null values are considered false\n",
    "if \"\":\n",
    "    print(\"yess\")\n",
    "else:\n",
    "    print(\"noo\")\n",
    "    \n",
    "if (0):\n",
    "    print(\"yes\")\n",
    "else:\n",
    "    print(\"no\")\n",
    "\n",
    "#ternary operator not allowed in python\n",
    "#replacement\n",
    "age = 20\n",
    "print(\"Adult\" if age>=18 else \"junior\")    \n",
    "\n",
    "#ternary operator through list tuple or dictionary\n",
    "#(false,true)[condition expression]\n",
    "x = 10\n",
    "\n",
    "result_mapping = [\"Odd\",\"Even\"]\n",
    "result = result_mapping[x % 2 == 0]\n",
    "\n",
    "print(result)\n"
   ]
  },
  {
   "cell_type": "code",
   "execution_count": null,
   "metadata": {},
   "outputs": [],
   "source": []
  }
 ],
 "metadata": {
  "kernelspec": {
   "display_name": "Python 3",
   "language": "python",
   "name": "python3"
  },
  "language_info": {
   "codemirror_mode": {
    "name": "ipython",
    "version": 3
   },
   "file_extension": ".py",
   "mimetype": "text/x-python",
   "name": "python",
   "nbconvert_exporter": "python",
   "pygments_lexer": "ipython3",
   "version": "3.11.4"
  }
 },
 "nbformat": 4,
 "nbformat_minor": 2
}
