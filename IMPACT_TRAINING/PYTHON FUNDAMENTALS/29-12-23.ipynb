{
 "cells": [
  {
   "cell_type": "code",
   "execution_count": 16,
   "metadata": {},
   "outputs": [
    {
     "name": "stdout",
     "output_type": "stream",
     "text": [
      "['', '0', '0']\n",
      "['1', '1', '']\n",
      "3 3\n",
      "possible\n"
     ]
    }
   ],
   "source": [
    "#WAP that returns true if binary string can be rearranged into 1010101010\n",
    "\n",
    "a = int(input())\n",
    "a = bin(a)[2:]\n",
    "b = len(a.split(\"1\"))\n",
    "print(a.split(\"1\"))\n",
    "c = len(a.split(\"0\"))\n",
    "print(a.split(\"0\"))\n",
    "print(b,c)\n",
    "if (b==c):\n",
    "    print(\"possible\")\n",
    "else:\n",
    "    print(\"not possible\")"
   ]
  },
  {
   "cell_type": "code",
   "execution_count": 12,
   "metadata": {},
   "outputs": [
    {
     "name": "stdout",
     "output_type": "stream",
     "text": [
      "a\n",
      "r\n",
      "y\n",
      "a\n",
      "n\n",
      "ryn"
     ]
    }
   ],
   "source": [
    "#for loop for iterating sequence\n",
    "for i in \"aryan\":\n",
    "    print(i)\n",
    "    \n",
    "for i in \"aryan\":\n",
    "    if i in \"AEIOUaeiou\":\n",
    "        pass\n",
    "    else:\n",
    "        print(i,end=\"\")"
   ]
  },
  {
   "cell_type": "code",
   "execution_count": 24,
   "metadata": {},
   "outputs": [
    {
     "name": "stdout",
     "output_type": "stream",
     "text": [
      "The percentage of vowels in the string is: 40.0%\n"
     ]
    }
   ],
   "source": [
    "#calculate the percentage of vowels in a string\n",
    "a = input()\n",
    "count = 0\n",
    "\n",
    "for i in a:\n",
    "    if i in \"AEIOUaeiou\":\n",
    "        count += 1\n",
    "\n",
    "percentage = (count / len(a)) * 100\n"
   ]
  },
  {
   "cell_type": "code",
   "execution_count": 37,
   "metadata": {},
   "outputs": [
    {
     "name": "stdout",
     "output_type": "stream",
     "text": [
      "Area : 12.56\n",
      "Area : 12.57\n",
      "Area : 12.566370614359172\n",
      "Area of cirle of radius 2 is 12.5664\n"
     ]
    }
   ],
   "source": [
    "#format() - to format the output\n",
    "#area of a circle\n",
    "# {} ---> attributes at the end \n",
    "\n",
    "pi = 3.14\n",
    "r = int(input())\n",
    "area = pi*r**2\n",
    "print(f\"Area : {area}\")\n",
    "\n",
    "import math\n",
    "area1 = math.pi*r**2\n",
    "print(\"Area : {:.2f}\" .format(area1))\n",
    "print(\"Area :\",area1)\n",
    "print(\"Area of cirle of radius {} is {:.4f}\".format(r,area1))\n",
    "\n",
    "a,b = 100,200\n",
    "print(\"Sum of {} + {} = {}\".format(a,b,a+b))"
   ]
  },
  {
   "cell_type": "code",
   "execution_count": 50,
   "metadata": {},
   "outputs": [
    {
     "name": "stdout",
     "output_type": "stream",
     "text": [
      "true\n"
     ]
    }
   ],
   "source": [
    "#check the binary into 101010 format\n",
    "a = input()\n",
    "b,c = a.count(\"0\"),a.count(\"1\")\n",
    "if ((b-c)>1):\n",
    "    print(\"false\")\n",
    "else:\n",
    "    print(\"true\")"
   ]
  },
  {
   "cell_type": "code",
   "execution_count": 5,
   "metadata": {},
   "outputs": [
    {
     "name": "stdout",
     "output_type": "stream",
     "text": [
      "both decimal and binary are palindrome\n"
     ]
    }
   ],
   "source": [
    "#chech if decimal and binary are palindrome\n",
    "\n",
    "a = int(input())\n",
    "b = str(a)[::-1]\n",
    "c = bin(a)[2:]\n",
    "d = str(c)[::-1]\n",
    "if(((a==b) or (a==1 or a == 2 or a == 3 or a == 4 or a == 5 or a == 6 or a == 7 or a == 8 or a == 9)) and c==d):\n",
    "    print(\"both decimal and binary are palindrome\")\n",
    "elif((a==b and c!=d)):\n",
    "    print(\"only decimal is palindrome\")\n",
    "elif(a!=b and c==d):\n",
    "    print(\"only binary is palindrome\")\n",
    "else:\n",
    "    print(\"both are not palindrome\")\n"
   ]
  },
  {
   "cell_type": "code",
   "execution_count": 9,
   "metadata": {},
   "outputs": [
    {
     "name": "stdout",
     "output_type": "stream",
     "text": [
      "Your bonus is :-  7600\n"
     ]
    }
   ],
   "source": [
    "#0-32 - zero\n",
    "#33-40 - 325 per day\n",
    "#41-48 - 550 per day\n",
    "#48 - 600 per day\n",
    "\n",
    "days = int(input())\n",
    "\n",
    "if (days<33):\n",
    "    print(0*32,\"Sorry no bonus\")\n",
    "elif (33<=days<41):\n",
    "    print(\"Your bonus is :- \",0+((days-32)*325))\n",
    "elif(41<=days<48):\n",
    "    print(\"Your bonus is :- \",0+(8*325)+((days-40)*550))\n",
    "elif(days>=48):\n",
    "    print(\"Your bonus is :- \",0+(8*325)+(8*550)+((days-48)*600))"
   ]
  },
  {
   "cell_type": "code",
   "execution_count": 33,
   "metadata": {},
   "outputs": [
    {
     "name": "stdout",
     "output_type": "stream",
     "text": [
      "non digit\n"
     ]
    }
   ],
   "source": [
    "#check if the given string is integer or not\n",
    "\n",
    "ip = input()\n",
    "a = \"123456789\"\n",
    "c = 0\n",
    "for i in ip:\n",
    "    if i in a:\n",
    "        c=1\n",
    "        break\n",
    "    else:\n",
    "        print(\"non digit\")\n",
    "        break\n",
    "if c==1:\n",
    "    print(\"digit\")"
   ]
  },
  {
   "cell_type": "code",
   "execution_count": 43,
   "metadata": {},
   "outputs": [
    {
     "name": "stdout",
     "output_type": "stream",
     "text": [
      "5\n",
      "aryan, raj, and 3 others are online\n"
     ]
    }
   ],
   "source": [
    "#chatroom numbers of people online\n",
    "users = input().split()\n",
    "num_users = len(users)\n",
    "if num_users == 0:\n",
    "    print(\"No one is online\")\n",
    "elif num_users == 1:\n",
    "    print(f\"{users[0]} is online\")\n",
    "elif num_users == 2:\n",
    "    print(f\"{users[0]} and {users[1]} are online\")\n",
    "elif num_users >= 3:\n",
    "    print(f\"{users[0]}, {users[1]}, and {len(users)-2} others are online\")\n",
    "else:\n",
    "    print(\"Invalid room\")\n"
   ]
  },
  {
   "cell_type": "code",
   "execution_count": 54,
   "metadata": {},
   "outputs": [
    {
     "name": "stdout",
     "output_type": "stream",
     "text": [
      "We repeated the loop 3 times.\n"
     ]
    }
   ],
   "source": [
    "a = int(input())\n",
    "b = int(input())\n",
    "count = 0\n",
    "\n",
    "while a > b:\n",
    "    a = a / 2\n",
    "    count += 1\n",
    "\n",
    "print(f\"We repeated the loop {count} times.\")"
   ]
  },
  {
   "cell_type": "code",
   "execution_count": 62,
   "metadata": {},
   "outputs": [
    {
     "name": "stdout",
     "output_type": "stream",
     "text": [
      "abc 10 (20, 30, 'abc', 'bcd') {'x': 30, 'y': 70, 'z': 100}\n",
      "abc 0 () {}\n",
      "None\n"
     ]
    }
   ],
   "source": [
    "def abc(a=0,*b,**c):\n",
    "    print(\"abc\",a,b,c)\n",
    "abc(10,20,30,\"abc\",\"bcd\",x=30,y=70,z=100)\n",
    "print(abc())"
   ]
  },
  {
   "cell_type": "code",
   "execution_count": 64,
   "metadata": {},
   "outputs": [
    {
     "name": "stdout",
     "output_type": "stream",
     "text": [
      "['aryann']\n"
     ]
    }
   ],
   "source": [
    "#reverse the numbers not the characters\n",
    "#happ4h56 == happ65h4\n",
    "\n",
    "a = input().split()"
   ]
  }
 ],
 "metadata": {
  "kernelspec": {
   "display_name": "Python 3",
   "language": "python",
   "name": "python3"
  },
  "language_info": {
   "codemirror_mode": {
    "name": "ipython",
    "version": 3
   },
   "file_extension": ".py",
   "mimetype": "text/x-python",
   "name": "python",
   "nbconvert_exporter": "python",
   "pygments_lexer": "ipython3",
   "version": "3.11.4"
  }
 },
 "nbformat": 4,
 "nbformat_minor": 2
}
