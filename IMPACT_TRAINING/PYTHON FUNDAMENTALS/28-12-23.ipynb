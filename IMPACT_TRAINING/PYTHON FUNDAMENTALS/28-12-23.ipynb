{
 "cells": [
  {
   "cell_type": "code",
   "execution_count": 127,
   "metadata": {},
   "outputs": [
    {
     "name": "stdout",
     "output_type": "stream",
     "text": [
      "{'NO'}\n",
      "{'YES'}\n"
     ]
    }
   ],
   "source": [
    "#TERNARY OPERATOR THROUGH TUPLE AND DICTIONARY\n",
    "#(false,true)[condition expression]\n",
    "a=int(input())\n",
    "b=int(input())\n",
    "print({(\"NO\",\"YES\")[a>b]})\n",
    "\n",
    "#in dictionary the position of true false doesnt matter, the key matters\n",
    "print({{True : \"NO\", False : \"YES\"}[100>150]})"
   ]
  },
  {
   "cell_type": "code",
   "execution_count": 126,
   "metadata": {},
   "outputs": [
    {
     "name": "stdout",
     "output_type": "stream",
     "text": [
      "isosceles\n"
     ]
    }
   ],
   "source": [
    "#logical operators\n",
    "#if statements\n",
    "#check the angle of triangle\n",
    "#and or not\n",
    "\n",
    "x,y,z = int(input()),int(input()),int(input())\n",
    "\n",
    "if(x==y==z):\n",
    "    print(\"equilateral\")\n",
    "elif(x==y or y==z or x==z):\n",
    "    print(\"isosceles\")\n",
    "else: #elif(x!=y and y!=z and z!=x)\n",
    "    print(\"scalene\")"
   ]
  },
  {
   "cell_type": "code",
   "execution_count": 8,
   "metadata": {},
   "outputs": [
    {
     "name": "stdout",
     "output_type": "stream",
     "text": [
      "False\n",
      "True\n",
      "True\n",
      "False\n"
     ]
    }
   ],
   "source": [
    "#Membership operaters\n",
    "#(in, not in)\n",
    "#left side object is a member in the rightside sequence or not\n",
    "\n",
    "print(\"s\" in \"aryan\")\n",
    "print(\"mori\" not in \"aryan\")\n",
    "print(\"mori\" in \"aryan mori\")\n",
    "print(100 not in [10,12,13,100])"
   ]
  },
  {
   "cell_type": "code",
   "execution_count": 125,
   "metadata": {},
   "outputs": [
    {
     "name": "stdout",
     "output_type": "stream",
     "text": [
      "three digit\n",
      "3\n"
     ]
    }
   ],
   "source": [
    "#check the number of digits in a number\n",
    "\n",
    "number = int(input())\n",
    "\n",
    "if (number<0):\n",
    "    print(\"negative number not allowed\")\n",
    "elif (number<10):\n",
    "    print(\"single digit\")\n",
    "elif (10<=number<100):\n",
    "    print(\"two digit\")\n",
    "elif(100<=number<1000):\n",
    "    print(\"three digit\")\n",
    "elif(1000<=number):\n",
    "    print(\"big number\")\n",
    "else:\n",
    "    print(\"invalid\")    \n",
    "    \n",
    "\n",
    "#efficitent way\n",
    "if(len(str(number))>3):\n",
    "    print(\"big number\")\n",
    "elif(len(str(number))<0):\n",
    "    print(\"negative not allowed\")\n",
    "elif(len(str(number))):\n",
    "    print(len(str(number)))\n",
    "    "
   ]
  },
  {
   "cell_type": "code",
   "execution_count": 123,
   "metadata": {},
   "outputs": [
    {
     "name": "stdout",
     "output_type": "stream",
     "text": [
      "Upper case\n"
     ]
    }
   ],
   "source": [
    "#check whether input is digit, alphabet, special character\n",
    "character = input()\n",
    "\n",
    "if character.isdigit():\n",
    "    print(\"Number\")\n",
    "elif character.isalpha():\n",
    "    if character.isupper():\n",
    "        print(\"Upper case\")\n",
    "    else:\n",
    "        print(\"Lower case\")\n",
    "else:\n",
    "    print(\"Special character\")\n"
   ]
  },
  {
   "cell_type": "code",
   "execution_count": 40,
   "metadata": {},
   "outputs": [
    {
     "name": "stdout",
     "output_type": "stream",
     "text": [
      "10.5\n"
     ]
    }
   ],
   "source": [
    "# calculate dogs age in dog years \n",
    "# first 2 year = 10.5 human years\n",
    "# each year of dog after first 2 is 4 human years \n",
    "\n",
    "da = int(input())\n",
    "\n",
    "if (da<2):\n",
    "    print(10.5*da)\n",
    "elif(da>2):\n",
    "    print(((da-2)*4)+21)\n",
    "else:\n",
    "    print(\"invalid input\")  "
   ]
  },
  {
   "cell_type": "code",
   "execution_count": 119,
   "metadata": {},
   "outputs": [
    {
     "name": "stdout",
     "output_type": "stream",
     "text": [
      "* \n",
      "* * \n",
      "* * * \n",
      "* * * * \n",
      "* * * * * \n",
      "* * * * * * \n",
      "* * * * * \n",
      "* * * * \n",
      "* * * \n",
      "* * \n",
      "* \n"
     ]
    }
   ],
   "source": [
    "#looping statements (for loop, while loop) --> code reusability\n",
    "\n",
    "N = int(input())\n",
    "i = 1\n",
    "while i<=N:\n",
    "    print(\"* \"*i)\n",
    "    i+=1\n",
    "\n",
    "N = int(input())\n",
    "i = 1\n",
    "while N>=i:\n",
    "    print(\"* \"*N)\n",
    "    N-=1"
   ]
  },
  {
   "cell_type": "code",
   "execution_count": 59,
   "metadata": {},
   "outputs": [
    {
     "name": "stdout",
     "output_type": "stream",
     "text": [
      "7 x 1 = 7\n",
      "7 x 2 = 14\n",
      "7 x 3 = 21\n",
      "7 x 4 = 28\n",
      "7 x 5 = 35\n",
      "7 x 6 = 42\n",
      "7 x 7 = 49\n",
      "7 x 8 = 56\n",
      "7 x 9 = 63\n",
      "7 x 10 = 70\n"
     ]
    }
   ],
   "source": [
    "#multiplication table \n",
    "n = int(input())\n",
    "i = 1\n",
    "for i in range(1,11):\n",
    "    print(n,\"x\",i,\"=\",n*i)"
   ]
  },
  {
   "cell_type": "code",
   "execution_count": 117,
   "metadata": {},
   "outputs": [
    {
     "name": "stdout",
     "output_type": "stream",
     "text": [
      "0 1 2 3 4 5 6 7 8 9 3 4 5 6 7 8 9 "
     ]
    }
   ],
   "source": [
    "for i in range(10):\n",
    "    print(i,end=\" \")\n",
    "\n",
    "for i in range(3,10):\n",
    "    print(i,end=\" \")"
   ]
  },
  {
   "cell_type": "code",
   "execution_count": 116,
   "metadata": {},
   "outputs": [
    {
     "name": "stdout",
     "output_type": "stream",
     "text": [
      "aryan mori aryan mori\n",
      "asxnjksadjksad\n",
      "['', 'wdbjk', 'sbdkj', 'd']\n",
      "4 wdbjk \n"
     ]
    }
   ],
   "source": [
    "a = input().split()\n",
    "b = input()\n",
    "c = input().split(\"a\")\n",
    "print(a)\n",
    "print(b)\n",
    "print(c)\n",
    "print(len(c),max(c),min(c))"
   ]
  },
  {
   "cell_type": "code",
   "execution_count": 114,
   "metadata": {},
   "outputs": [
    {
     "name": "stdout",
     "output_type": "stream",
     "text": [
      "1\n",
      "1\n"
     ]
    },
    {
     "data": {
      "text/plain": [
       "3"
      ]
     },
     "execution_count": 114,
     "metadata": {},
     "output_type": "execute_result"
    }
   ],
   "source": [
    "#find the lenght of the longest continuous zeros in the binary number\n",
    "#accepting binary only\n",
    "a = input().split(\"1\")\n",
    "print(len(max(a)))\n",
    "\n",
    "#efficient\n",
    "print(len(max(input().split(\"1\"))))\n",
    "\n",
    "#accepting digits\n",
    "a = int(input())\n",
    "a = bin(a)[2:]\n",
    "a = a.split(\"1\")\n",
    "len(max(a))"
   ]
  },
  {
   "cell_type": "code",
   "execution_count": 20,
   "metadata": {},
   "outputs": [
    {
     "name": "stdout",
     "output_type": "stream",
     "text": [
      "# # # # # \n",
      "#       #\n",
      "#       #\n",
      "#       #\n",
      "# # # # # \n",
      "# # # # # # # # \n",
      "#             # \n",
      "#             # \n",
      "# # # # # # # # \n"
     ]
    }
   ],
   "source": [
    "# # # #\n",
    "#     #\n",
    "#     #\n",
    "# # # #\n",
    "\n",
    "a = int(input())\n",
    "i = 1\n",
    "b = \" \"\n",
    "for i in range (a):\n",
    "    if (i==0 or i==(a-1)):\n",
    "        print(\"# \"*a )\n",
    "    else:\n",
    "        print(\"#\",b*(a-1),end=\" \")\n",
    "        print(\" #\")\n",
    "        \n",
    "        \n",
    "        \n",
    "        \n",
    "def generate_pattern(rows, columns):\n",
    "    for i in range(rows):\n",
    "        for j in range(columns):\n",
    "            if i == 0 or i == rows - 1 or j == 0 or j == columns - 1:\n",
    "                print(\"#\", end=\" \")\n",
    "            else:\n",
    "                print(\" \", end=\" \")\n",
    "        print()\n",
    "\n",
    "# Call the function with the desired number of rows and columns\n",
    "generate_pattern(4, 8)"
   ]
  }
 ],
 "metadata": {
  "kernelspec": {
   "display_name": "Python 3",
   "language": "python",
   "name": "python3"
  },
  "language_info": {
   "codemirror_mode": {
    "name": "ipython",
    "version": 3
   },
   "file_extension": ".py",
   "mimetype": "text/x-python",
   "name": "python",
   "nbconvert_exporter": "python",
   "pygments_lexer": "ipython3",
   "version": "3.11.4"
  }
 },
 "nbformat": 4,
 "nbformat_minor": 2
}
