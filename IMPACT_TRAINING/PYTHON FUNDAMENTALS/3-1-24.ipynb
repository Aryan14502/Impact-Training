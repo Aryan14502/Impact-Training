{
 "cells": [
  {
   "cell_type": "code",
   "execution_count": 3,
   "metadata": {},
   "outputs": [
    {
     "name": "stdout",
     "output_type": "stream",
     "text": [
      "{0, 1, 2, 4, 200, 'Aryan', -1, 223}\n",
      "{1, 2, 4, 200, 'Aryan', -1, 223}\n",
      "{2, 4, 200, 'Aryan', -1, 223}\n"
     ]
    }
   ],
   "source": [
    "a = set([\"Aryan\",0,-1,1,223,2,200,4])\n",
    "print(a)\n",
    "a.pop()\n",
    "print(a)\n",
    "a.pop()\n",
    "print(a)"
   ]
  },
  {
   "cell_type": "code",
   "execution_count": 6,
   "metadata": {},
   "outputs": [
    {
     "name": "stdout",
     "output_type": "stream",
     "text": [
      "{0, 1, 2, 3, 4, 5, 32, 'mori', 53, 'aryan'}\n",
      "{0, 1, 2, 3, 4, 5, 32, 'mori', 53, 'aryan'}\n"
     ]
    }
   ],
   "source": [
    "# union of set\n",
    "a = set([1,2,3,4,5,\"aryan\",\"mori\"])\n",
    "b = {0,3,1,53,32}\n",
    "c = a|b\n",
    "print(c)\n",
    "c = a.union(b)\n",
    "print(c)"
   ]
  },
  {
   "cell_type": "code",
   "execution_count": 2,
   "metadata": {},
   "outputs": [
    {
     "name": "stdout",
     "output_type": "stream",
     "text": [
      "{'tensorflow', 'numpy'}\n",
      "{'numpy'}\n"
     ]
    }
   ],
   "source": [
    "#difference of set\n",
    "a = set([\"numpy\",\"pandas\"])\n",
    "b = set([\"pandas\",\"tensorflow\"])\n",
    "#symmetric difference\n",
    "c = a^b\n",
    "print(c)\n",
    "#difference\n",
    "c = a - b\n",
    "print(c)"
   ]
  },
  {
   "cell_type": "code",
   "execution_count": 7,
   "metadata": {},
   "outputs": [
    {
     "name": "stdout",
     "output_type": "stream",
     "text": [
      "False\n",
      "False\n",
      "True\n",
      "True\n"
     ]
    }
   ],
   "source": [
    "#issubset and issuperset\n",
    "a = set([\"numpy\",\"pandas\"])\n",
    "b = set([\"pandas\",\"tensorflow\"])\n",
    "c = set([\"pandas\"])\n",
    "issubset = a <= b\n",
    "print(issubset)\n",
    "issuperset = a >= b\n",
    "print(issuperset)\n",
    "issubset = c <= b\n",
    "print(issubset)\n",
    "issuperset = b >= c\n",
    "print(issuperset)"
   ]
  },
  {
   "cell_type": "code",
   "execution_count": 8,
   "metadata": {},
   "outputs": [
    {
     "name": "stdout",
     "output_type": "stream",
     "text": [
      "{100}\n"
     ]
    },
    {
     "ename": "AttributeError",
     "evalue": "'frozenset' object has no attribute 'add'",
     "output_type": "error",
     "traceback": [
      "\u001b[1;31m---------------------------------------------------------------------------\u001b[0m",
      "\u001b[1;31mAttributeError\u001b[0m                            Traceback (most recent call last)",
      "Cell \u001b[1;32mIn[8], line 7\u001b[0m\n\u001b[0;32m      5\u001b[0m \u001b[38;5;28mprint\u001b[39m(s)\n\u001b[0;32m      6\u001b[0m f \u001b[38;5;241m=\u001b[39m \u001b[38;5;28mfrozenset\u001b[39m()\n\u001b[1;32m----> 7\u001b[0m \u001b[43mf\u001b[49m\u001b[38;5;241;43m.\u001b[39;49m\u001b[43madd\u001b[49m(\u001b[38;5;241m100\u001b[39m)\n\u001b[0;32m      8\u001b[0m \u001b[38;5;28mprint\u001b[39m(f)\n",
      "\u001b[1;31mAttributeError\u001b[0m: 'frozenset' object has no attribute 'add'"
     ]
    }
   ],
   "source": [
    "#set and frozen set\n",
    "#set is mutable where frozen set is not\n",
    "s = set()\n",
    "s.add(100)\n",
    "print(s)\n",
    "f = frozenset()\n",
    "f.add(100)\n",
    "print(f)"
   ]
  },
  {
   "cell_type": "code",
   "execution_count": 11,
   "metadata": {},
   "outputs": [
    {
     "name": "stdout",
     "output_type": "stream",
     "text": [
      "frozenset({600, 500})\n",
      "frozenset({100, 200, 300, 400, 500, 600})\n",
      "False\n"
     ]
    }
   ],
   "source": [
    "f1 = frozenset([100,200,300,400])\n",
    "f2 = frozenset([100,200,500,600])\n",
    "print(f2-f1) #difference\n",
    "print(f1|f2)\n",
    "print(f1.isdisjoint(f2))"
   ]
  },
  {
   "cell_type": "code",
   "execution_count": 16,
   "metadata": {},
   "outputs": [
    {
     "name": "stdout",
     "output_type": "stream",
     "text": [
      "{1, 4, 9, 16, 25}\n",
      "{1, 4, 9, 16, 25}\n"
     ]
    }
   ],
   "source": [
    "#set comprehension\n",
    "\n",
    "square = {(i*i) for i in range(1,6)}\n",
    "print(square)\n",
    "\n",
    "#same program in set:\n",
    "\n",
    "square = set()\n",
    "for i in range (1,6):\n",
    "    square.add(i*i)\n",
    "print(square)"
   ]
  },
  {
   "cell_type": "code",
   "execution_count": 35,
   "metadata": {},
   "outputs": [],
   "source": [
    "#proint set of length less than 4\n",
    "\n",
    "a = input().split()\n",
    "b = set(a)\n",
    "for word in b:\n",
    "    if len(word)<4:\n",
    "        word"
   ]
  },
  {
   "cell_type": "code",
   "execution_count": 51,
   "metadata": {},
   "outputs": [
    {
     "name": "stdout",
     "output_type": "stream",
     "text": [
      "{'hii', 'aryan'}\n",
      "{'HIII'}\n"
     ]
    }
   ],
   "source": [
    "#capitalize the words which start with h\n",
    "        \n",
    "s = {i.upper() for i in input().split() if i.startswith(\"h\")}\n",
    "print(s)        "
   ]
  },
  {
   "cell_type": "code",
   "execution_count": 55,
   "metadata": {},
   "outputs": [
    {
     "name": "stdout",
     "output_type": "stream",
     "text": [
      "{frozenset({'s'}), frozenset({'b', 'h'}), frozenset({'t'}), frozenset({'m', 'r'}), frozenset({'y', 'n', 'r'})}\n"
     ]
    }
   ],
   "source": [
    "#nested set comprehension\n",
    "#remove vowels\n",
    "\n",
    "a = input().split()\n",
    "a = set(a)\n",
    "vow = ['a','e','i','o','u']\n",
    "b = {frozenset({letter for letter in word if letter not in vow}) for word in a}\n",
    "print(b)"
   ]
  },
  {
   "cell_type": "code",
   "execution_count": 31,
   "metadata": {},
   "outputs": [
    {
     "name": "stdout",
     "output_type": "stream",
     "text": [
      "1\n",
      "2\n"
     ]
    }
   ],
   "source": [
    "#m integers in both \n",
    "#like all number in set a and not in set b\n",
    "#n = array to compare\n",
    "\n",
    "a = {3, 1}\n",
    "b = {5, 7}\n",
    "n = [1, 5, 3]\n",
    "\n",
    "count = 0\n",
    "\n",
    "for element in n:\n",
    "    if element in a:\n",
    "        count += 1\n",
    "    elif element in b:\n",
    "        count -= 1\n",
    "\n",
    "print(count)\n",
    "\n",
    "#different approach\n",
    "\n",
    "a1 = set(input().split())\n",
    "b1 = set(input().split())\n",
    "array = (input().split())\n",
    "\n",
    "c = set(array)\n",
    "happy = len(c&a1)\n",
    "sad = len(c&b1)\n",
    "happiness = print(happy-sad) \n"
   ]
  },
  {
   "cell_type": "code",
   "execution_count": 42,
   "metadata": {},
   "outputs": [
    {
     "name": "stdout",
     "output_type": "stream",
     "text": [
      "True\n"
     ]
    }
   ],
   "source": [
    "# chech every word if duplicate return false otherwise true\n",
    "\n",
    "a = set(input().split())\n",
    "for i in a:\n",
    "    if (len(i)==len(set(i))):\n",
    "        print(\"True\")\n",
    "    else:\n",
    "        print(\"False\")"
   ]
  },
  {
   "cell_type": "code",
   "execution_count": null,
   "metadata": {},
   "outputs": [],
   "source": [
    "#DICTIONARY---> Keys and Value mapping\n",
    "#{key1 : value1, key2 : value2, key3 : value3}\n",
    "#Dictionary keys are unique(duplicate keeys not allowed)\n",
    "#data types of dictionary keys are immutabel types\n",
    "#single keys with multiple values also allowed "
   ]
  },
  {
   "cell_type": "code",
   "execution_count": 44,
   "metadata": {},
   "outputs": [
    {
     "name": "stdout",
     "output_type": "stream",
     "text": [
      "{} <class 'dict'>\n",
      "{} <class 'dict'>\n"
     ]
    }
   ],
   "source": [
    "parul = {}\n",
    "print(parul,type(parul))\n",
    "parul = dict()\n",
    "print(parul,type(parul))"
   ]
  },
  {
   "cell_type": "code",
   "execution_count": 53,
   "metadata": {},
   "outputs": [
    {
     "name": "stdout",
     "output_type": "stream",
     "text": [
      "{1: 'CSE', 2: 'IT', 'MECH': 10, 'CIVIL': 20}\n",
      "{1: 'CSE', 2: 'IT', 'MECH': 10, 'CIVIL': 20, 5: 'AVIATION'}\n",
      "{1: 'AIML', 2: 'IT', 'MECH': 10, 'CIVIL': 20, 5: 'AVIATION'}\n",
      "dict_keys([1, 2, 'MECH', 'CIVIL', 5])\n",
      "1 2 MECH CIVIL 5\n",
      "dict_values(['AIML', 'IT', 10, 20, 'AVIATION'])\n",
      "AIML IT 10 20 AVIATION\n",
      "dict_items([(1, 'AIML'), (2, 'IT'), ('MECH', 10), ('CIVIL', 20), (5, 'AVIATION')])\n",
      "(1, 'AIML') (2, 'IT') ('MECH', 10) ('CIVIL', 20) (5, 'AVIATION')\n",
      "1 --> AIML\n",
      "2 --> IT\n",
      "MECH --> 10\n",
      "CIVIL --> 20\n",
      "5 --> AVIATION\n"
     ]
    }
   ],
   "source": [
    "#default dictionary\n",
    "\n",
    "parul = {1:\"CSE\",2:\"IT\",\"MECH\":10,\"CIVIL\":20}\n",
    "print(parul)\n",
    "parul[5] = \"AVIATION\"\n",
    "print(parul)\n",
    "parul[1] = \"AIML\"\n",
    "print(parul)\n",
    "print(parul.keys())\n",
    "print(*parul.keys())\n",
    "print(parul.values())\n",
    "print(*parul.values())\n",
    "print(parul.items())\n",
    "print(*parul.items())\n",
    "for k,v in parul.items():\n",
    "    print(k,\"-->\",v)"
   ]
  },
  {
   "cell_type": "code",
   "execution_count": 60,
   "metadata": {},
   "outputs": [
    {
     "name": "stdout",
     "output_type": "stream",
     "text": [
      "{100: 'Hundred', 10: 'Ten'}\n",
      "Hundred\n"
     ]
    },
    {
     "ename": "KeyError",
     "evalue": "20",
     "output_type": "error",
     "traceback": [
      "\u001b[1;31m---------------------------------------------------------------------------\u001b[0m",
      "\u001b[1;31mKeyError\u001b[0m                                  Traceback (most recent call last)",
      "Cell \u001b[1;32mIn[60], line 9\u001b[0m\n\u001b[0;32m      7\u001b[0m parul \u001b[38;5;241m=\u001b[39m {\u001b[38;5;241m100\u001b[39m: \u001b[38;5;124m'\u001b[39m\u001b[38;5;124mHundred\u001b[39m\u001b[38;5;124m'\u001b[39m, \u001b[38;5;241m10\u001b[39m: \u001b[38;5;124m'\u001b[39m\u001b[38;5;124mTen\u001b[39m\u001b[38;5;124m'\u001b[39m}\n\u001b[0;32m      8\u001b[0m \u001b[38;5;28mprint\u001b[39m(parul[\u001b[38;5;241m100\u001b[39m])\n\u001b[1;32m----> 9\u001b[0m \u001b[38;5;28mprint\u001b[39m(\u001b[43mparul\u001b[49m\u001b[43m[\u001b[49m\u001b[38;5;241;43m20\u001b[39;49m\u001b[43m]\u001b[49m)\n",
      "\u001b[1;31mKeyError\u001b[0m: 20"
     ]
    }
   ],
   "source": [
    "#update() in dictionary\n",
    "\n",
    "parul = {}\n",
    "parul.update({100 : \"Hundred\"})\n",
    "parul.update({10 : \"Ten\"})\n",
    "print(parul)\n",
    "parul = {100: 'Hundred', 10: 'Ten'}\n",
    "print(parul[100])\n",
    "print(parul[20])"
   ]
  },
  {
   "cell_type": "code",
   "execution_count": 61,
   "metadata": {},
   "outputs": [
    {
     "name": "stdout",
     "output_type": "stream",
     "text": [
      "Hundred\n",
      "None\n"
     ]
    }
   ],
   "source": [
    "#get() function in dic\n",
    "\n",
    "parul = {100: 'Hundred', 10: 'Ten'}\n",
    "print(parul.get(100))\n",
    "print(parul.get(20))"
   ]
  },
  {
   "cell_type": "code",
   "execution_count": 67,
   "metadata": {},
   "outputs": [
    {
     "name": "stdout",
     "output_type": "stream",
     "text": [
      "{5: 'Five', 100: 'Hundred', 10: 'Ten'}\n",
      "{5: 'Five', 10: 'Ten', 100: 'Hundred'}\n",
      "[5, 10, 100]\n"
     ]
    }
   ],
   "source": [
    "parul = {100: 'Hundred', 10: 'Ten', 5: 'Five'}\n",
    "import operator\n",
    "print(dict(sorted(parul.items(),key=operator.itemgetter(1))))#value based sorting\n",
    "print(dict(sorted(parul.items(),key=operator.itemgetter(0))))#key based sorting\n",
    "print(sorted(parul))"
   ]
  },
  {
   "cell_type": "code",
   "execution_count": 68,
   "metadata": {},
   "outputs": [
    {
     "name": "stdout",
     "output_type": "stream",
     "text": [
      "[100, 10]\n",
      "[5, 10, 100]\n"
     ]
    }
   ],
   "source": [
    "parul = {100: 'Hundred', 10: 'Ten', 5: 'Five'}\n",
    "import heapq\n",
    "print(heapq.nlargest(2,parul))\n",
    "print(heapq.nsmallest(3,parul))"
   ]
  },
  {
   "cell_type": "code",
   "execution_count": 83,
   "metadata": {},
   "outputs": [
    {
     "name": "stdout",
     "output_type": "stream",
     "text": [
      "{'h': 1, 'a': 1, 'p': 2, 'y': 1}\n",
      "{'h': 1, 'a': 1, 'p': 1, 'y': 1}\n"
     ]
    }
   ],
   "source": [
    "#find the count of occurence of each character in string b y using dictionary\n",
    "\n",
    "s = input()\n",
    "res = {}\n",
    "for i in s:\n",
    "    res[i] = s.count(i)\n",
    "print(res)\n",
    "\n",
    "#different approach\n",
    "\n",
    "res={}\n",
    "for j in s:\n",
    "    res[j]=res.get(i,0)+1\n",
    "print(res)\n"
   ]
  },
  {
   "cell_type": "code",
   "execution_count": 27,
   "metadata": {},
   "outputs": [
    {
     "name": "stdout",
     "output_type": "stream",
     "text": [
      "{1: 300, 2: 30}\n",
      "Top scorer is Roll No. 1 with score 300\n"
     ]
    }
   ],
   "source": [
    "#find the highest scorer with dynamic input from dictionary\n",
    "import operator\n",
    "\n",
    "students = {}\n",
    "N = int(input(\"Enter the No. of students: \"))\n",
    "\n",
    "for i in range(N):\n",
    "    rollno = int(input())\n",
    "    marks1, marks2, marks3 = int(input()), int(input()), int(input())\n",
    "    marks = marks1 + marks2 + marks3\n",
    "    students.update({rollno: marks})\n",
    "\n",
    "print(dict(sorted(students.items(), key=operator.itemgetter(0))))\n",
    "top_scorer = max(students.items(), key=operator.itemgetter(1))\n",
    "print(\"Top scorer is Roll No.\", top_scorer[0], \"with score\", top_scorer[1])\n"
   ]
  },
  {
   "cell_type": "code",
   "execution_count": null,
   "metadata": {},
   "outputs": [],
   "source": [
    "#A class is a prototype that defines variables and functions(methods) common to all objects"
   ]
  },
  {
   "cell_type": "code",
   "execution_count": 28,
   "metadata": {},
   "outputs": [
    {
     "name": "stdout",
     "output_type": "stream",
     "text": [
      "Email sent successfully\n",
      "file attached successfully\n",
      "aryan14502@gmail.com\n",
      "Invitation\n"
     ]
    }
   ],
   "source": [
    "class Email:\n",
    "    recepient = \"aryan14502@gmail.com\"\n",
    "    subject_line = \"Invitation\"\n",
    "    \n",
    "    def sending(Self):\n",
    "        print(\"Email sent successfully\")\n",
    "    def attachment(self):\n",
    "        print(\"file attached successfully\")\n",
    "Email.sending(0)\n",
    "Email.attachment(1)\n",
    "print(Email.recepient)\n",
    "print(Email.subject_line)"
   ]
  },
  {
   "cell_type": "code",
   "execution_count": 31,
   "metadata": {},
   "outputs": [
    {
     "name": "stdout",
     "output_type": "stream",
     "text": [
      "Total score of Aryan is : 60\n"
     ]
    }
   ],
   "source": [
    "class student:\n",
    "    name = \"Aryan\"\n",
    "    age = 21\n",
    "    \n",
    "    def performance():\n",
    "        marks = [int(i) for i in input().split()]\n",
    "        total = marks[0]+marks[1]+marks[2]\n",
    "        print(f\"Total score of {student.name} is : {total}\")\n",
    "student.performance()"
   ]
  },
  {
   "cell_type": "code",
   "execution_count": 33,
   "metadata": {},
   "outputs": [
    {
     "ename": "AttributeError",
     "evalue": "type object 'training' has no attribute 'college'",
     "output_type": "error",
     "traceback": [
      "\u001b[1;31m---------------------------------------------------------------------------\u001b[0m",
      "\u001b[1;31mAttributeError\u001b[0m                            Traceback (most recent call last)",
      "Cell \u001b[1;32mIn[33], line 10\u001b[0m\n\u001b[0;32m      8\u001b[0m         \u001b[38;5;28mprint\u001b[39m(\u001b[38;5;124m\"\u001b[39m\u001b[38;5;124mPython Training going on..\u001b[39m\u001b[38;5;124m\"\u001b[39m)\n\u001b[0;32m      9\u001b[0m         \u001b[38;5;28mprint\u001b[39m(\u001b[38;5;124m\"\u001b[39m\u001b[38;5;124mTriggered by aryan\u001b[39m\u001b[38;5;124m\"\u001b[39m)\n\u001b[1;32m---> 10\u001b[0m \u001b[38;5;28mprint\u001b[39m(\u001b[38;5;124m\"\u001b[39m\u001b[38;5;124mCOLLEGE NAME : \u001b[39m\u001b[38;5;124m\"\u001b[39m,\u001b[43mtraining\u001b[49m\u001b[38;5;241;43m.\u001b[39;49m\u001b[43mcollege\u001b[49m)\n\u001b[0;32m     11\u001b[0m \u001b[38;5;28mprint\u001b[39m(\u001b[38;5;124m\"\u001b[39m\u001b[38;5;124mLocation : \u001b[39m\u001b[38;5;124m\"\u001b[39m,training\u001b[38;5;241m.\u001b[39mlocation)\n\u001b[0;32m     12\u001b[0m \u001b[38;5;28mprint\u001b[39m(\u001b[38;5;124m\"\u001b[39m\u001b[38;5;124mNo of Departments : \u001b[39m\u001b[38;5;124m\"\u001b[39m,training\u001b[38;5;241m.\u001b[39mno_of_dept)\n",
      "\u001b[1;31mAttributeError\u001b[0m: type object 'training' has no attribute 'college'"
     ]
    }
   ],
   "source": [
    "class training:\n",
    "    college : \"Parul University\"\n",
    "    location : \"Vadodara\"\n",
    "    no_of_dept : 100\n",
    "    tech = \"Python\"\n",
    "    \n",
    "    def Placement_and_Training():\n",
    "        print(\"Python Training going on..\")\n",
    "        print(\"Triggered by aryan\")\n",
    "print(\"COLLEGE NAME : \",training.college)\n",
    "print(\"Location : \",training.location)\n",
    "print(\"No of Departments : \",training.no_of_dept)\n",
    "print(\"Technology : \",training.tech)\n",
    "Placement_and_Training()"
   ]
  }
 ],
 "metadata": {
  "kernelspec": {
   "display_name": "Python 3",
   "language": "python",
   "name": "python3"
  },
  "language_info": {
   "codemirror_mode": {
    "name": "ipython",
    "version": 3
   },
   "file_extension": ".py",
   "mimetype": "text/x-python",
   "name": "python",
   "nbconvert_exporter": "python",
   "pygments_lexer": "ipython3",
   "version": "3.11.4"
  }
 },
 "nbformat": 4,
 "nbformat_minor": 2
}
