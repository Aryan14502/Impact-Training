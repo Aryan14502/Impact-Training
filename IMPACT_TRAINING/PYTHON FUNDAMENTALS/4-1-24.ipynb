{
 "cells": [
  {
   "cell_type": "code",
   "execution_count": 14,
   "metadata": {},
   "outputs": [
    {
     "name": "stdout",
     "output_type": "stream",
     "text": [
      "No of seating in canteen is: 100\n",
      "Menu Item:  {1: 'Tea', 2: 'Puff', 3: 'Sandwich', 4: 'Thali', 5: 'Order complete'}\n",
      "Available Stocks:  [200, 50, 70, 100]\n",
      "You ordered 1: Tea\n",
      "Your order quantity is 2\n",
      "your bill is 20\n",
      "Menu Item:  {1: 'Tea', 2: 'Puff', 3: 'Sandwich', 4: 'Thali', 5: 'Order complete'}\n",
      "Available Stocks:  [198, 50, 70, 100]\n",
      "You ordered 2: Puff\n",
      "Your order quantity is 1\n",
      "& your bill is 20\n",
      "Menu Item:  {1: 'Tea', 2: 'Puff', 3: 'Sandwich', 4: 'Thali', 5: 'Order complete'}\n",
      "Available Stocks:  [198, 49, 70, 100]\n",
      "You ordered 2: Puff\n",
      "Your order quantity is 2\n",
      "& your bill is 40\n",
      "Menu Item:  {1: 'Tea', 2: 'Puff', 3: 'Sandwich', 4: 'Thali', 5: 'Order complete'}\n",
      "Available Stocks:  [198, 47, 70, 100]\n",
      "You ordered 2: Puff\n",
      "Your order quantity is 2\n",
      "& your bill is 40\n",
      "Menu Item:  {1: 'Tea', 2: 'Puff', 3: 'Sandwich', 4: 'Thali', 5: 'Order complete'}\n",
      "Available Stocks:  [198, 45, 70, 100]\n",
      "You ordered 2: Puff\n",
      "Your order quantity is 2\n",
      "& your bill is 40\n",
      "Menu Item:  {1: 'Tea', 2: 'Puff', 3: 'Sandwich', 4: 'Thali', 5: 'Order complete'}\n",
      "Available Stocks:  [198, 43, 70, 100]\n",
      "You ordered 2: Puff\n",
      "Your order quantity is 5\n",
      "& your bill is 100\n",
      "Menu Item:  {1: 'Tea', 2: 'Puff', 3: 'Sandwich', 4: 'Thali', 5: 'Order complete'}\n",
      "Available Stocks:  [198, 38, 70, 100]\n",
      "You ordered 1: Tea\n",
      "Your order quantity is 2\n",
      "your bill is 20\n",
      "Menu Item:  {1: 'Tea', 2: 'Puff', 3: 'Sandwich', 4: 'Thali', 5: 'Order complete'}\n",
      "Available Stocks:  [196, 38, 70, 100]\n",
      "You ordered 3: Sandwich\n",
      "Your order quantity is 4\n",
      "your bill is 120\n",
      "Menu Item:  {1: 'Tea', 2: 'Puff', 3: 'Sandwich', 4: 'Thali', 5: 'Order complete'}\n",
      "Available Stocks:  [196, 38, 66, 100]\n",
      "You ordered 5: Order complete\n",
      "Order Complete\n",
      "current stock is: [196, 38, 66, 100]\n"
     ]
    }
   ],
   "source": [
    "class canteen:\n",
    "    noOfSeatings=100\n",
    "    items={1:'Tea',2:'Puff',3:'Sandwich',4:'Thali',5: \"Order complete\"}\n",
    "    prices=[10, 20, 30, 60]\n",
    "    stocks=[200, 50, 70, 100]\n",
    "\n",
    "    def order():\n",
    "        orderMore=True\n",
    "        while orderMore:\n",
    "            print(\"Menu Item: \", canteen.items)\n",
    "            print(\"Available Stocks: \", canteen.stocks)\n",
    "            order=int(input(\"Enter you order\"))\n",
    "            print(f\"You ordered {order}:\",canteen.items[order])\n",
    "            if order==1:\n",
    "                quantity=int(input(\"Enter the quantity of your order\"))\n",
    "                print(f\"Your order quantity is {quantity}\")\n",
    "                print(f\"your bill is {canteen.prices[0]*quantity}\")\n",
    "                canteen.stocks[0]-=quantity\n",
    "            elif order==2:\n",
    "                quantity=int(input(\"Enter the quantity of your order\"))\n",
    "                print(f\"Your order quantity is {quantity}\")\n",
    "                print(f\"& your bill is {canteen.prices[1]*quantity}\")\n",
    "                canteen.stocks[1]-=quantity\n",
    "            elif order==3:\n",
    "                quantity=int(input(\"Enter the quantity of your order\"))\n",
    "                print(f\"Your order quantity is {quantity}\")\n",
    "                print(f\"your bill is {canteen.prices[2]*quantity}\")\n",
    "                canteen.stocks[2]-=quantity\n",
    "            elif order==4:\n",
    "                quantity=int(input(\"Enter the quantity of your order\"))\n",
    "                print(f\"Your order quantity is {quantity}\")\n",
    "                print(f\"your bill is {canteen.prices[3]*quantity}\")\n",
    "                canteen.stocks[3]-=quantity\n",
    "            elif order==5:\n",
    "                print(\"Order Complete\")\n",
    "                orderMore=False\n",
    "            else:\n",
    "                print(\"Enter valid order!!\")\n",
    "\n",
    "print(f\"No of seating in canteen is: {canteen.noOfSeatings}\")    \n",
    "canteen.order()\n",
    "print(f\"current stock is: {canteen.stocks}\")"
   ]
  },
  {
   "cell_type": "code",
   "execution_count": 3,
   "metadata": {},
   "outputs": [
    {
     "name": "stdout",
     "output_type": "stream",
     "text": [
      "Email sent to aryanmori@gmail.com successfully!\n"
     ]
    }
   ],
   "source": [
    "class Email:\n",
    "    recepient = input(\"Enter recipient's email: \")\n",
    "\n",
    "    def sending(self):  # No need to set a default value for self\n",
    "        print(f\"Email sent to {self.recepient} successfully!\")\n",
    "\n",
    "# Create an instance of the Email class\n",
    "email_instance = Email()\n",
    "\n",
    "# Call the sending method on the instance\n",
    "email_instance.sending()"
   ]
  },
  {
   "cell_type": "code",
   "execution_count": 4,
   "metadata": {},
   "outputs": [
    {
     "name": "stdout",
     "output_type": "stream",
     "text": [
      "Your order for Pizza: 104\n",
      "Your total bill for Pizza: 1600\n"
     ]
    }
   ],
   "source": [
    "class Pizza:\n",
    "    def __init__(self):\n",
    "        self.P_ID = int(input(\"Enter Pizza ID:\"))\n",
    "        self.rate = 400\n",
    "\n",
    "    def order(self):\n",
    "        print(\"Your order for Pizza:\", self.P_ID)\n",
    "        qty = int(input(\"How many do you want?\"))\n",
    "        total_bill = self.rate * qty\n",
    "        print(f\"Your total bill for Pizza: {total_bill}\")\n",
    "\n",
    "# Create an instance of the Pizza class\n",
    "pizza_instance = Pizza()\n",
    "\n",
    "# Call the order method on the instance\n",
    "pizza_instance.order()\n"
   ]
  },
  {
   "cell_type": "code",
   "execution_count": 1,
   "metadata": {},
   "outputs": [
    {
     "name": "stdout",
     "output_type": "stream",
     "text": [
      "My name is Piuyush\n",
      "My name is Niks\n",
      "My name is nevil\n"
     ]
    }
   ],
   "source": [
    "class myname:\n",
    "    name=\"\"\n",
    "\n",
    "    def my_self(self):\n",
    "        print(\"My name is \"+self.name)\n",
    "\n",
    "m1,m2,m3=myname(),myname(),myname()  #create 3 objects m1,m2,m3\n",
    "m1.name,m2.name,m3.name=\"Piuyush\",\"Niks\",\"nevil\"\n",
    "\n",
    "m1.my_self()\n",
    "m2.my_self()\n",
    "m3.my_self()"
   ]
  },
  {
   "cell_type": "code",
   "execution_count": 2,
   "metadata": {},
   "outputs": [
    {
     "name": "stdout",
     "output_type": "stream",
     "text": [
      "Python Python\n",
      "Atml Atml\n"
     ]
    }
   ],
   "source": [
    "class Training:\n",
    "    #init is a constructor function \n",
    "    technology=\"\"\n",
    "    def __init__(self,tech_name):\n",
    "        self.tech_name=tech_name\n",
    "        self.technology=tech_name\n",
    "t1=Training(\"Python\")\n",
    "t2=Training(\"Atml\")\n",
    "print(t1.tech_name,t1.technology)\n",
    "print(t2.tech_name,t2.technology)"
   ]
  },
  {
   "cell_type": "code",
   "execution_count": 13,
   "metadata": {},
   "outputs": [
    {
     "name": "stdout",
     "output_type": "stream",
     "text": [
      "Barath villa has 1 floors\n",
      "SASI Villa has 2 floors it's a house with 3 bedromms.\n"
     ]
    }
   ],
   "source": [
    "#Inheritance\n",
    "'''1. Inheritance os a mechanism that allows a new class to inherit properties and methods of an existing class.\n",
    "2. the existing class is reffered to a s the base class or parent class, and the new class is called the derived classor child class\n",
    "3. this concept promotes code reusability and helps in organizing and structuring''' \n",
    "\n",
    "class Building:\n",
    "    def __init__(self,name,floors):\n",
    "        self.name=name\n",
    "        self.floor=floors\n",
    "    def display_info(self):\n",
    "        return f\"{self.name} has {self.floor} floors\"\n",
    "#Derived class or child class\n",
    "class House(Building):\n",
    "    def __init__(self,name,floors,bedrooms):\n",
    "        super().__init__(name,floors)\n",
    "        self.bedrooms=bedrooms\n",
    "    def display_info(self):\n",
    "        base_info=super().display_info()\n",
    "        return f\"{base_info} it's a house with {self.bedrooms} bedromms.\"\n",
    "#Instances of the derived classes\n",
    "b=Building(\"Barath villa\",1)\n",
    "h=House(\"SASI Villa\",2,3)\n",
    "#using the display_info method\n",
    "print(b.display_info())\n",
    "print(h.display_info())"
   ]
  },
  {
   "cell_type": "code",
   "execution_count": 7,
   "metadata": {},
   "outputs": [
    {
     "name": "stdout",
     "output_type": "stream",
     "text": [
      "Barath Villa has 1 floors\n",
      "SASI Villa has 2 floors It's a house with 3 bedrooms.\n",
      "Tech Corp Tower has 10 floors It's an office with 5 meeting rooms.\n"
     ]
    }
   ],
   "source": [
    "# Parent class\n",
    "class Building:\n",
    "    def __init__(self, name, floors):\n",
    "        self.name = name\n",
    "        self.floors = floors\n",
    "\n",
    "    def display_info(self):\n",
    "        return f\"{self.name} has {self.floors} floors\"\n",
    "\n",
    "# Child class 1: House\n",
    "class House(Building):\n",
    "    def __init__(self, name, floors, bedrooms):\n",
    "        super().__init__(name, floors)\n",
    "        self.bedrooms = bedrooms\n",
    "\n",
    "    def display_info(self):\n",
    "        base_info = super().display_info()\n",
    "        return f\"{base_info} It's a house with {self.bedrooms} bedrooms.\"\n",
    "\n",
    "# Child class 2: Office\n",
    "class Office(Building):\n",
    "    def __init__(self, name, floors, meeting_rooms):\n",
    "        super().__init__(name, floors)\n",
    "        self.meeting_rooms = meeting_rooms\n",
    "\n",
    "    def display_info(self):\n",
    "        base_info = super().display_info()\n",
    "        return f\"{base_info} It's an office with {self.meeting_rooms} meeting rooms.\"\n",
    "\n",
    "# Instances of the derived classes\n",
    "b = Building(\"Barath Villa\", 1)\n",
    "h = House(\"SASI Villa\", 2, 3)\n",
    "o = Office(\"Tech Corp Tower\", 10, 5)\n",
    "\n",
    "# Using the display_info method for each instance\n",
    "print(b.display_info())\n",
    "print(h.display_info())\n",
    "print(o.display_info())\n"
   ]
  },
  {
   "cell_type": "code",
   "execution_count": 2,
   "metadata": {},
   "outputs": [
    {
     "name": "stdout",
     "output_type": "stream",
     "text": [
      "Bird is ready\n",
      "Penguin is ready\n",
      "penguin\n",
      "swim faster\n",
      "Run faster\n"
     ]
    }
   ],
   "source": [
    "#parant class\n",
    "class Bird:\n",
    "    def __init__(self):\n",
    "        print(\"Bird is ready\")\n",
    "    def whoisThis(self):\n",
    "        print(\"Bird\")\n",
    "    def swim(self):\n",
    "        print(\"swim faster\")\n",
    "#child class\n",
    "class Penguin(Bird):\n",
    "    def __init__(self):\n",
    "        #call super() function\n",
    "        super().__init__()#super() will call parent clas constructor/methods\n",
    "        print(\"Penguin is ready\")\n",
    "    def whoisThis(self):\n",
    "        print(\"penguin\")\n",
    "    def run(sef):\n",
    "        print(\"Run faster\")\n",
    "peggy=Penguin()#child class\n",
    "peggy.whoisThis()\n",
    "peggy.swim()#parent class funcion accessed by child class object\n",
    "peggy.run()"
   ]
  },
  {
   "cell_type": "code",
   "execution_count": 7,
   "metadata": {},
   "outputs": [
    {
     "name": "stdout",
     "output_type": "stream",
     "text": [
      "Selling Price: 900\n",
      "Selling Price: 900\n",
      "Selling Price: 1000\n"
     ]
    }
   ],
   "source": [
    "class Computer: #Encapsulation\n",
    "    def __init__(self):\n",
    "        self.__maxprice=900 #private variable starts with__(double underscore)\n",
    "    def sell(self):\n",
    "        print(\"Selling Price: {}\".format(self.__maxprice))\n",
    "    def setMaxPrice(self,price): #setter function\n",
    "        self.__maxprice=price\n",
    "c=Computer()\n",
    "c.sell()\n",
    "#change the price \n",
    "c.__maxprice=1000 # it wont change the private variable value\n",
    "c.sell()\n",
    "#using setter function\n",
    "c.setMaxPrice(1000) #using setter function we can set values to private varible function\n",
    "c.sell()"
   ]
  },
  {
   "cell_type": "code",
   "execution_count": 9,
   "metadata": {},
   "outputs": [
    {
     "name": "stdout",
     "output_type": "stream",
     "text": [
      "True\n",
      "False\n",
      "True\n"
     ]
    }
   ],
   "source": [
    "#lambda\n",
    "palin=lambda x:str(x)==str(x)[::-1]\n",
    "print(palin(12321))\n",
    "print(palin(100))\n",
    "\n",
    "# Example usage with input\n",
    "input_str = input(\"Enter a string: \")\n",
    "result = palin(input_str)\n",
    "print(result)\n"
   ]
  },
  {
   "cell_type": "code",
   "execution_count": 10,
   "metadata": {},
   "outputs": [
    {
     "name": "stdout",
     "output_type": "stream",
     "text": [
      "60\n"
     ]
    }
   ],
   "source": [
    "#addition of two numbers\n",
    "print((lambda x,y: x+y)(20,40))"
   ]
  },
  {
   "cell_type": "code",
   "execution_count": 14,
   "metadata": {},
   "outputs": [
    {
     "name": "stdout",
     "output_type": "stream",
     "text": [
      "60\n"
     ]
    }
   ],
   "source": [
    "#multiplication of two numbers\n",
    "multiply=lambda x:x*int(input(\"enter value2: \"))\n",
    "print(multiply(10))"
   ]
  },
  {
   "cell_type": "code",
   "execution_count": 17,
   "metadata": {},
   "outputs": [
    {
     "name": "stdout",
     "output_type": "stream",
     "text": [
      "[0, 6, 7, 8]\n"
     ]
    }
   ],
   "source": [
    "#returns the position of capital letters\n",
    "capital_index=lambda s: [i for i,x in enumerate(s) if x.isupper()]\n",
    "print(capital_index(\"PiyushBALwani\"))"
   ]
  },
  {
   "cell_type": "code",
   "execution_count": 18,
   "metadata": {},
   "outputs": [
    {
     "name": "stdout",
     "output_type": "stream",
     "text": [
      "['Pandas', 'Tensorflow']\n"
     ]
    }
   ],
   "source": [
    "#lambda with filter()\n",
    "libraries=[\"Numpy\",\"Pandas\",\"Tensorflow\",\"SciKit-Learn\"]\n",
    "f=filter(lambda s:s[0]=='T' or s[0]=='P',libraries)\n",
    "print(list(f))"
   ]
  },
  {
   "cell_type": "code",
   "execution_count": 19,
   "metadata": {},
   "outputs": [
    {
     "name": "stdout",
     "output_type": "stream",
     "text": [
      "(100, 89)\n"
     ]
    }
   ],
   "source": [
    "#lamda with filter()\n",
    "scores=(10,78,45,61,100,25,55,89)\n",
    "greater_scores=tuple(filter(lambda x:x>=80 and x<=100, scores))\n",
    "print(greater_scores)"
   ]
  },
  {
   "cell_type": "code",
   "execution_count": 29,
   "metadata": {},
   "outputs": [
    {
     "name": "stdout",
     "output_type": "stream",
     "text": [
      "52\n"
     ]
    }
   ],
   "source": [
    "#map()\n",
    "x=[3,4],(4,7),{7,8,9,10}\n",
    "s=map(sum,x)\n",
    "print(sum(s))"
   ]
  },
  {
   "cell_type": "code",
   "execution_count": 30,
   "metadata": {},
   "outputs": [
    {
     "name": "stdout",
     "output_type": "stream",
     "text": [
      "[8, 7, 6]\n"
     ]
    }
   ],
   "source": [
    "#map() with \n",
    "length=list(map(len,[\"training\",\"digital\",\"Python\"]))\n",
    "print(length)"
   ]
  },
  {
   "cell_type": "code",
   "execution_count": 31,
   "metadata": {},
   "outputs": [
    {
     "name": "stdout",
     "output_type": "stream",
     "text": [
      "[2, 16, 216]\n"
     ]
    }
   ],
   "source": [
    "#map() with more sequence s parameter\n",
    "base,powers =[2,4,6],[1,2,3]\n",
    "res=list(map(pow,base,powers))# 3map taking 2 sequences here\n",
    "print(res)"
   ]
  },
  {
   "cell_type": "code",
   "execution_count": 33,
   "metadata": {},
   "outputs": [
    {
     "name": "stdout",
     "output_type": "stream",
     "text": [
      "[1.2, 3.78, 7.234, 5.9873]\n"
     ]
    }
   ],
   "source": [
    "#map() with chage_case() user-defined \n",
    "circle_areas=[1.234, 3.78123, 7.234443, 5.987323]\n",
    "area=list(map(round,circle_areas, range(1,5)))\n",
    "print(area)"
   ]
  },
  {
   "cell_type": "code",
   "execution_count": 16,
   "metadata": {},
   "outputs": [
    {
     "name": "stdout",
     "output_type": "stream",
     "text": [
      "some Error!...\n",
      "I will work on anytime if having error or not\n"
     ]
    }
   ],
   "source": [
    "#Exception handling\n",
    "try:\n",
    "    print(10/int(input()))\n",
    "except:\n",
    "    print(\"some Error!...\")\n",
    "finally:\n",
    "    print(\"I will work on anytime if having error or not\")\n"
   ]
  }
 ],
 "metadata": {
  "kernelspec": {
   "display_name": "Python 3",
   "language": "python",
   "name": "python3"
  },
  "language_info": {
   "codemirror_mode": {
    "name": "ipython",
    "version": 3
   },
   "file_extension": ".py",
   "mimetype": "text/x-python",
   "name": "python",
   "nbconvert_exporter": "python",
   "pygments_lexer": "ipython3",
   "version": "3.10.6"
  }
 },
 "nbformat": 4,
 "nbformat_minor": 2
}
