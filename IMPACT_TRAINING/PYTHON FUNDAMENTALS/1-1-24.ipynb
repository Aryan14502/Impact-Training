{
 "cells": [
  {
   "cell_type": "code",
   "execution_count": null,
   "metadata": {},
   "outputs": [],
   "source": [
    "#capaitalize () --> capitalize the first letter of the string\n",
    "a = input()\n",
    "print(a.capitalize())\n",
    "print(a.title())"
   ]
  },
  {
   "cell_type": "code",
   "execution_count": 56,
   "metadata": {},
   "outputs": [
    {
     "name": "stdout",
     "output_type": "stream",
     "text": [
      "***Python***\n",
      "Python******\n",
      "******Python\n",
      "000000Python\n"
     ]
    }
   ],
   "source": [
    "#center()---> (width,fillchar) it will do the center alignment of string\n",
    "\n",
    "a = \"Python\"\n",
    "print(a.center(12,'*'))\n",
    "print(a.ljust(12,'*'))   #leftjustify\n",
    "print(a.rjust(12,'*'))   #rightjustify\n",
    "print(a.zfill(12))   #it will filter only zeros #right-side only"
   ]
  },
  {
   "cell_type": "code",
   "execution_count": null,
   "metadata": {},
   "outputs": [],
   "source": [
    "#count (sub,start,end)\n",
    "\n",
    "a = \"This is Python, Py is VHLL\"\n",
    "print(a.count(\"is\"))\n",
    "print(a.count(\"is\",2)) #start searching from 2 position\n",
    "print(a.count(\"is\",2,10)) #start searching from 2 till 10 only\n",
    "print(\"Banana\".count(\"ana\")) #cannot find the overlapping substrings\n"
   ]
  },
  {
   "cell_type": "code",
   "execution_count": null,
   "metadata": {},
   "outputs": [],
   "source": [
    "#find solution for overlapping substrings\n",
    "#anaana solution\n",
    "\n",
    "a = input()\n",
    "c = 0\n",
    "for i in range(len(a) - 2):\n",
    "    if a[i:i+3] == \"ana\":\n",
    "        print(\"yes\")\n",
    "        c+=1\n",
    "    else:\n",
    "        print(\"no\")\n",
    "print(c)\n",
    "\n",
    "\n",
    "#not efficient but different approach\n",
    "s = input()\n",
    "ss = input()\n",
    "c = 0\n",
    "for i in range(len(s)-len(ss)+1):\n",
    "    if s[i:i+len(ss)]==ss:\n",
    "        c+=1\n",
    "print(c)"
   ]
  },
  {
   "cell_type": "code",
   "execution_count": null,
   "metadata": {},
   "outputs": [],
   "source": [
    "#endswith and startswith\n",
    "\n",
    "a = \"Hello Python\"\n",
    "print(a.endswith(\"non\"))\n",
    "print(a.startswith(\"He\"))\n",
    "print(a.startswith(\"hello\"))"
   ]
  },
  {
   "cell_type": "code",
   "execution_count": 53,
   "metadata": {},
   "outputs": [
    {
     "name": "stdout",
     "output_type": "stream",
     "text": [
      "7\n"
     ]
    }
   ],
   "source": [
    "#find(string, start, end)\n",
    "\n",
    "a = \"Hello Python Program How Are You\"\n",
    "print(a.find('yth', 2))"
   ]
  },
  {
   "cell_type": "code",
   "execution_count": null,
   "metadata": {},
   "outputs": [],
   "source": [
    "#isaplha() find the alphabetical strings\n",
    "#isdigit() find the number only\n",
    "#isalnum() find alpha and num both\n",
    "#isspace() find the whitespace only\n",
    "\n",
    "s = \"How Are You\"\n",
    "print(s.isalpha())\n",
    "s = \"ajndjsand\"\n",
    "print(s.isalpha())\n",
    "s = \"ajkd1124@\"\n",
    "print(s.isdigit())\n",
    "s = \"12242 1233\"\n",
    "print(s.isdigit())\n",
    "s = \"09876543\"\n",
    "print(s.isdigit())\n",
    "s = \"Hapyy New Year 2024\"\n",
    "print(s.isalnum())\n",
    "s = \"HappyNewYear2024\"\n",
    "print(s.isalnum())\n",
    "s = \"happy new year\"\n",
    "print(s.isspace())\n",
    "s = \"  \"\n",
    "print(s.isspace())"
   ]
  },
  {
   "cell_type": "code",
   "execution_count": 54,
   "metadata": {},
   "outputs": [
    {
     "name": "stdout",
     "output_type": "stream",
     "text": [
      "hAPPY nEW yEAR\n"
     ]
    }
   ],
   "source": [
    "#swapcase() changes the scae of string\n",
    "\n",
    "a = \"Happy New Year\"\n",
    "print(a.swapcase())"
   ]
  },
  {
   "cell_type": "code",
   "execution_count": null,
   "metadata": {},
   "outputs": [],
   "source": [
    "#passwordchecking contains sepcial character,uppercase,lowercase,number, length 8 to 16\n",
    "\n",
    "a = input()\n",
    "uc = lc = dc = sc = 0 \n",
    "if len(a) in range(8,17):\n",
    "    for i in a:\n",
    "        if i.isupper():\n",
    "            uc+=1\n",
    "        elif i.islower():\n",
    "            lc+=1\n",
    "        elif i.isdigit():\n",
    "            dc+=1\n",
    "        else:\n",
    "            sc+=1\n",
    "    if (uc>=1 and lc>=1 and dc>=1 and sc>=1):\n",
    "        print(\"password accepted\")\n",
    "    else:\n",
    "        print(\"password is weak\")\n",
    "else:\n",
    "    print(\"lenght is below 8 or above 16\")\n",
    "    \n",
    "    \n",
    "#different way   \n",
    "    \n",
    "password = input()\n",
    "\n",
    "if 8 <= len(password) <= 16:\n",
    "    has_uppercase = any(char.isupper() for char in password)\n",
    "    has_lowercase = any(char.islower() for char in password)\n",
    "    has_digit = any(char.isdigit() for char in password)\n",
    "    has_no_spaces = not password.isspace()\n",
    "\n",
    "    if has_uppercase and has_lowercase and has_digit and has_no_spaces:\n",
    "        print(\"Password accepted\")\n",
    "    else:\n",
    "        print(\"Weak password\")\n",
    "else:\n",
    "    print(\"Length is below 8 or above 16\")\n",
    "\n",
    "\n"
   ]
  },
  {
   "cell_type": "code",
   "execution_count": 55,
   "metadata": {},
   "outputs": [
    {
     "name": "stdout",
     "output_type": "stream",
     "text": [
      "p-y-t-h-o-n\n",
      "phaiyhaithaihhaiohain\n",
      "a*r*y*a*n\n"
     ]
    }
   ],
   "source": [
    "#join()\n",
    "\n",
    "a = [\"p\",\"y\",\"t\",\"h\",\"o\",\"n\"]\n",
    "b = '-'\n",
    "print(b.join(a))\n",
    "print(\"hai\".join(a))\n",
    "print(\"*\".join(\"aryan\"))"
   ]
  },
  {
   "cell_type": "code",
   "execution_count": null,
   "metadata": {},
   "outputs": [],
   "source": [
    "#lstrip()--> remove from the left side\n",
    "#rstrip()--> remove from the right side\n",
    "\n",
    "a = \"ssssssthis is aryan's pcssssss\"\n",
    "print(a.lstrip(\"s\"))\n",
    "print(a.rstrip(\"s\"))"
   ]
  },
  {
   "cell_type": "code",
   "execution_count": null,
   "metadata": {},
   "outputs": [],
   "source": [
    "#Create a function that takes a string and returns a string with its letters in alphabetical order\n",
    "\n",
    "def order():\n",
    "    a = input()\n",
    "    b = sorted(a)\n",
    "    print(\"\".join(b))\n",
    "order()       "
   ]
  },
  {
   "cell_type": "code",
   "execution_count": null,
   "metadata": {},
   "outputs": [],
   "source": [
    "#create a func that takes a string, checks if it has the same number of \"X\" and \"O\" and returns either true or false\n",
    "\n",
    "def XO():\n",
    "    a = input()\n",
    "    b = a.lower().count(\"o\")\n",
    "    c = a.lower().count(\"x\")\n",
    "    if (b==c):\n",
    "        print(\"true\")\n",
    "    else:\n",
    "        print(\"false\")\n",
    "XO()"
   ]
  },
  {
   "cell_type": "code",
   "execution_count": null,
   "metadata": {},
   "outputs": [],
   "source": [
    "#hamming distance is number of characters that differ between 2 strings\n",
    "\n",
    "def hamming_distance():\n",
    "    a = input(\"Enter the first string: \")\n",
    "    b = input(\"Enter the second string: \")\n",
    "\n",
    "    if len(a) != len(b):\n",
    "        print(\"Error: Strings must be of equal length.\")\n",
    "        return\n",
    "\n",
    "    distance = sum(ch_a != ch_b for ch_a, ch_b in zip(a, b))\n",
    "    print(\"Hamming distance:\", distance)\n",
    "\n",
    "hamming_distance()\n",
    "\n",
    "#practice\n",
    "\n",
    "def HD():\n",
    "    a = input()\n",
    "    b = input()\n",
    "    \n",
    "    if(len(a)!=len(b)):\n",
    "        print(\"enter strings of similar length\")\n",
    "    \n",
    "    result = sum (ch_a != ch_b for ch_a,ch_b in zip(a,b))\n",
    "    print(result)\n",
    "    \n",
    "HD()\n"
   ]
  },
  {
   "cell_type": "code",
   "execution_count": null,
   "metadata": {},
   "outputs": [],
   "source": [
    "# a group of friends have decided to start a secret society. The name will be the first letter of each of their name \n",
    "#creat a function that takes in a list of names and returns the name of secret society\n",
    "\n",
    "def SS():\n",
    "    a = input().split()\n",
    "    b = sorted(a)\n",
    "    d = [c[0] for c in b]\n",
    "    print(\"\".join(d))\n",
    "SS()"
   ]
  },
  {
   "cell_type": "code",
   "execution_count": null,
   "metadata": {},
   "outputs": [],
   "source": [
    "#function that removes non-letter from string\n",
    "\n",
    "def NL():\n",
    "    a = input()\n",
    "    b = ''.join(char for char in a if char.isalpha())\n",
    "    print(b)\n",
    "NL()\n"
   ]
  },
  {
   "cell_type": "code",
   "execution_count": null,
   "metadata": {},
   "outputs": [],
   "source": [
    "#upper to lowercase\n",
    "\n",
    "def UL():\n",
    "    a = input()\n",
    "    b = a.lower()\n",
    "    print(b)\n",
    "UL()"
   ]
  },
  {
   "cell_type": "code",
   "execution_count": 3,
   "metadata": {},
   "outputs": [
    {
     "name": "stdout",
     "output_type": "stream",
     "text": [
      "\n",
      "aryanmori\n"
     ]
    }
   ],
   "source": [
    "#reverse word of a string\n",
    "\n",
    "a = input()\n",
    "print(''.join(a.split()[0:0:-1]))\n",
    "print(a)"
   ]
  },
  {
   "cell_type": "code",
   "execution_count": 8,
   "metadata": {},
   "outputs": [
    {
     "name": "stdout",
     "output_type": "stream",
     "text": [
      "asdnsad\n"
     ]
    }
   ],
   "source": [
    "import string\n",
    "\n",
    "def is_pangram(sentence):\n",
    "    alphabet_set = set(string.ascii_lowercase)\n",
    "    sentence_set = set(sentence.lower())\n",
    "\n",
    "    return alphabet_set.issubset(sentence_set)\n",
    "\n",
    "# Example usage:\n",
    "input_sentence = input(\"Enter a sentence: \")\n",
    "\n",
    "if is_pangram(input_sentence):\n",
    "    print(\"The input is a pangram.\")\n",
    "else:\n",
    "    print(\"The input is not a pangram.\")\n"
   ]
  },
  {
   "cell_type": "code",
   "execution_count": 14,
   "metadata": {},
   "outputs": [
    {
     "name": "stdout",
     "output_type": "stream",
     "text": [
      "[50, 70, 60]\n",
      "[50, 70, 60, 10, 2, 13]\n"
     ]
    }
   ],
   "source": [
    "parul = [10,10,10,\"python\",[50,70,60],90]\n",
    "print(parul[4][0:3])\n",
    "parul = (parul[4]+[10,2,13])\n",
    "print(parul)\n"
   ]
  },
  {
   "cell_type": "code",
   "execution_count": 15,
   "metadata": {},
   "outputs": [
    {
     "name": "stdout",
     "output_type": "stream",
     "text": [
      "['java', 'python', 213, 4024]\n"
     ]
    }
   ],
   "source": [
    "#convert sequence into list\n",
    "\n",
    "a = (\"java\",\"python\",213,4024)\n",
    "\n",
    "print(list(a))"
   ]
  },
  {
   "cell_type": "code",
   "execution_count": 20,
   "metadata": {},
   "outputs": [
    {
     "name": "stdout",
     "output_type": "stream",
     "text": [
      "['sdn', 500, 'Aryan', [10, 2, 4, 'parul'], 10, 2, 4, 'parul']\n"
     ]
    }
   ],
   "source": [
    "#append() in list\n",
    "#extend() in list\n",
    "#insert() in list(position,value)\n",
    "\n",
    "parul = []\n",
    "parul.append(input())\n",
    "parul.append(\"Aryan\")\n",
    "parul.append([10,2,4,\"parul\"])\n",
    "parul.extend([10,2,4,\"parul\"])\n",
    "parul.insert(1,500)\n",
    "print(parul)"
   ]
  },
  {
   "cell_type": "code",
   "execution_count": 25,
   "metadata": {},
   "outputs": [
    {
     "name": "stdout",
     "output_type": "stream",
     "text": [
      "['sdn', 500, 'Aryan', [10, 2, 4, 'parul'], 10, 2, 4]\n",
      "['sdn', 500, [10, 2, 4, 'parul'], 10, 2, 4]\n",
      "['sdn', [10, 2, 4, 'parul'], 10, 2, 4]\n"
     ]
    }
   ],
   "source": [
    "#pop() function\n",
    "#remove() it will remove the element\n",
    "\n",
    "parul = ['sdn', 500, 'Aryan', [10, 2, 4, 'parul'], 10, 2, 4, 'parul']\n",
    "parul.pop()\n",
    "print(parul) #from the right-side\n",
    "parul.pop(2) #position is from left-side\n",
    "print(parul)\n",
    "parul.remove(500)\n",
    "print(parul)"
   ]
  },
  {
   "cell_type": "code",
   "execution_count": 50,
   "metadata": {},
   "outputs": [
    {
     "name": "stdout",
     "output_type": "stream",
     "text": [
      "\n"
     ]
    }
   ],
   "source": [
    "a = input()\n",
    "b = [1]\n",
    "\n",
    "for char in a:\n",
    "    if char == \"#\":\n",
    "        if b:\n",
    "            b.pop()\n",
    "    else:\n",
    "        b.append(char)\n",
    "\n",
    "result = (''.join(b))\n",
    "print(result)\n"
   ]
  },
  {
   "cell_type": "code",
   "execution_count": 52,
   "metadata": {},
   "outputs": [
    {
     "name": "stdout",
     "output_type": "stream",
     "text": [
      "The input is not a pangram.\n"
     ]
    }
   ],
   "source": [
    "# anagram and panagram\n",
    "\n",
    "import string\n",
    "\n",
    "def is_pangram(sentence):\n",
    "    \n",
    "    sentence_set = set(sentence.lower())\n",
    "\n",
    "    return set(string.ascii_lowercase).issubset(sentence_set)\n",
    "\n",
    "input_sentence = input(\"Enter a sentence: \")\n",
    "\n",
    "if is_pangram(input_sentence):\n",
    "    print(\"The input is a pangram.\")\n",
    "else:\n",
    "    print(\"The input is not a pangram.\")\n"
   ]
  }
 ],
 "metadata": {
  "kernelspec": {
   "display_name": "Python 3",
   "language": "python",
   "name": "python3"
  },
  "language_info": {
   "codemirror_mode": {
    "name": "ipython",
    "version": 3
   },
   "file_extension": ".py",
   "mimetype": "text/x-python",
   "name": "python",
   "nbconvert_exporter": "python",
   "pygments_lexer": "ipython3",
   "version": "3.11.4"
  }
 },
 "nbformat": 4,
 "nbformat_minor": 2
}
