{
 "cells": [
  {
   "cell_type": "code",
   "execution_count": 12,
   "metadata": {},
   "outputs": [
    {
     "name": "stdout",
     "output_type": "stream",
     "text": [
      "Samsung Smart TV is on\n",
      "Samsung Smart TV is on channel no. 5\n"
     ]
    }
   ],
   "source": [
    "from abc import ABC, abstractmethod\n",
    "\n",
    "#Abstract class\n",
    "class Television(ABC):\n",
    "    def __init__(self, brand):\n",
    "        self.brand = brand\n",
    "        self.powered_on = False\n",
    "    \n",
    "    @abstractmethod\n",
    "    def turn_on(self):   #abstract has no implementation part\n",
    "        pass\n",
    "    \n",
    "    @abstractmethod\n",
    "    def turn_off(self):\n",
    "        pass\n",
    "    \n",
    "    @abstractmethod\n",
    "    def change_channel(self,channel):\n",
    "        pass\n",
    "    \n",
    "class SmartTV(Television):\n",
    "    def turn_on(self):\n",
    "        self.powered_on = True\n",
    "        print(f\"{self.brand} Smart TV is on\")\n",
    "    \n",
    "    def turn_off(self):\n",
    "        self.powered_on = False\n",
    "        print(f\"{self.brand} Smart TV is off\")\n",
    "        \n",
    "    def change_channel(self,channel):\n",
    "        if self.powered_on:\n",
    "            print(f\"{self.brand} Smart TV is on channel no. {channel}\")\n",
    "        else:\n",
    "            print(f\"Turn on your {self.brand} Smart TV\")\n",
    "\n",
    "st = SmartTV(brand=\"Samsung\")\n",
    "st.turn_on()\n",
    "st.change_channel(5)\n",
    "        \n",
    "    "
   ]
  },
  {
   "cell_type": "code",
   "execution_count": 15,
   "metadata": {},
   "outputs": [
    {
     "name": "stdout",
     "output_type": "stream",
     "text": [
      "6 \n",
      "16 5 89 65 5 \n"
     ]
    }
   ],
   "source": [
    "#polymorphism\n",
    "\n",
    "def feedback(*rating):\n",
    "    for i in rating:\n",
    "        print(i, end=\" \")\n",
    "    print()\n",
    "feedback(6)\n",
    "feedback(16,5,89,65,5)"
   ]
  },
  {
   "cell_type": "code",
   "execution_count": 21,
   "metadata": {},
   "outputs": [
    {
     "name": "stdout",
     "output_type": "stream",
     "text": [
      "Message send to : aryan@gmail.com, yzx@yahoo.com, no@gmail.com\n",
      "Content : HELLO WORLD\n"
     ]
    }
   ],
   "source": [
    "class MessagingService:\n",
    "    def send_message(self,to,message,cc=None,bcc=None):\n",
    "        recipient = [to]\n",
    "        if cc:\n",
    "            if isinstance(cc,list):\n",
    "                recipient.extend(cc)\n",
    "            else:\n",
    "                recipient.append(cc)\n",
    "        if bcc:\n",
    "            if isinstance(bcc,list):\n",
    "                recipient.extend(bcc)\n",
    "            else:\n",
    "                recipient.append(bcc)\n",
    "        print(f\"Message send to : {', '.join(recipient)}\\nContent : {message}\")\n",
    "msg = MessagingService()\n",
    "msg.send_message(\"aryan@gmail.com\",\"HELLO WORLD\",[\"yzx@yahoo.com\",\"no@gmail.com\"])"
   ]
  },
  {
   "cell_type": "code",
   "execution_count": 23,
   "metadata": {},
   "outputs": [
    {
     "name": "stdout",
     "output_type": "stream",
     "text": [
      "array('i', [1, 2, 3, 4]) 2297368001680\n",
      "array('f', [0.10000000149011612, 0.20000000298023224, 0.30000001192092896, 0.4000000059604645, 0.5])\n"
     ]
    }
   ],
   "source": [
    "#Array in python\n",
    "\n",
    "import array as arr\n",
    "\n",
    "a = arr.array('i',[1,2,3,4])\n",
    "print(a,id(a))\n",
    "\n",
    "b = arr.array('f',[0.1,0.2,0.3,0.4,0.5])\n",
    "print(b)"
   ]
  },
  {
   "cell_type": "code",
   "execution_count": 24,
   "metadata": {},
   "outputs": [
    {
     "name": "stdout",
     "output_type": "stream",
     "text": [
      "4\n",
      "5\n"
     ]
    }
   ],
   "source": [
    "import array as arr\n",
    "\n",
    "a = arr.array('i',[11,22,33,44,55])\n",
    "print(a.itemsize)\n",
    "print(len(a))"
   ]
  },
  {
   "cell_type": "code",
   "execution_count": 26,
   "metadata": {},
   "outputs": [
    {
     "name": "stdout",
     "output_type": "stream",
     "text": [
      "array('i', [1, 22, 2, 3, 4, 5])\n",
      "array('i', [1, 22, 2, 3, 4, 5, 200])\n"
     ]
    }
   ],
   "source": [
    "a = arr.array('i',[1,2,3,4,5])\n",
    "a.insert(1,22)\n",
    "print(a)\n",
    "a.append(200)\n",
    "print(a)"
   ]
  },
  {
   "cell_type": "code",
   "execution_count": 34,
   "metadata": {},
   "outputs": [
    {
     "name": "stdout",
     "output_type": "stream",
     "text": [
      "array('i', [1, 2, 3, 4, 5])\n",
      "1 --> 140705748017960 --> 28\n",
      "2 --> 140705748017992 --> 28\n",
      "3 --> 140705748018024 --> 28\n",
      "4 --> 140705748018056 --> 28\n",
      "5 --> 140705748018088 --> 28\n",
      "array('i', [1, 22, 2, 3, 4, 5])\n",
      "1 --> 140705748017960 --> 28\n",
      "22 --> 140705748018632 --> 28\n",
      "2 --> 140705748017992 --> 28\n",
      "3 --> 140705748018024 --> 28\n",
      "4 --> 140705748018056 --> 28\n",
      "5 --> 140705748018088 --> 28\n"
     ]
    }
   ],
   "source": [
    "a = arr.array('i',[1,2,3,4,5])\n",
    "print(a)\n",
    "import sys\n",
    "for i in range(len(a)):\n",
    "    print(a[i],\"-->\",id(a[i]),\"-->\",sys.getsizeof(a[i]))\n",
    "a.insert(1,22)\n",
    "print(a)\n",
    "for i in range(len(a)):\n",
    "    print(a[i],\"-->\",id(a[i]),\"-->\",sys.getsizeof(a[i]))"
   ]
  },
  {
   "cell_type": "code",
   "execution_count": 1,
   "metadata": {},
   "outputs": [
    {
     "name": "stdout",
     "output_type": "stream",
     "text": [
      "array('u', 'PARUL')\n",
      "array('u', 'PAUL')\n",
      "array('u', 'PAU')\n",
      "PAU\n"
     ]
    }
   ],
   "source": [
    "#pop and remove in array\n",
    "import array as arr\n",
    "\n",
    "a = arr.array('u',['P','A','R','U','L'])\n",
    "print(a)\n",
    "a.remove('R')\n",
    "print(a)\n",
    "a.pop()\n",
    "print(a)\n",
    "print(*a,sep=\"\")"
   ]
  },
  {
   "cell_type": "code",
   "execution_count": 15,
   "metadata": {},
   "outputs": [
    {
     "name": "stdout",
     "output_type": "stream",
     "text": [
      "array('u', 'PARUL UNI')\n",
      "PARUL\n"
     ]
    }
   ],
   "source": [
    "#slicing in array\n",
    "\n",
    "a = arr.array('u',['P','A','R','U','L',' ','U','N','I'])\n",
    "print(a)\n",
    "sliced_a=a[:5]\n",
    "print(*sliced_a,sep=\"\")"
   ]
  },
  {
   "cell_type": "code",
   "execution_count": 38,
   "metadata": {},
   "outputs": [
    {
     "name": "stdout",
     "output_type": "stream",
     "text": [
      "0\n",
      "array('u', 'aryaan')\n",
      "2\n"
     ]
    }
   ],
   "source": [
    "#find second occurence of the given character in the input string\n",
    "import array\n",
    "\n",
    "b = input()\n",
    "a = array.array('u', b)\n",
    "Target = input()\n",
    "print(a)\n",
    "print(a.index(Target))\n",
    "count = 0\n",
    "for char in a:\n",
    "    if Target == char:\n",
    "        count += 1 \n",
    "print(count-1)\n",
    "\n"
   ]
  },
  {
   "cell_type": "code",
   "execution_count": 40,
   "metadata": {},
   "outputs": [
    {
     "name": "stdout",
     "output_type": "stream",
     "text": [
      "array('u', 'ayran mori')\n",
      "irom narya\n"
     ]
    }
   ],
   "source": [
    "#reverse() in array\n",
    "\n",
    "import array\n",
    "b = input()\n",
    "a = array.array('u',b)\n",
    "print(a)\n",
    "a.reverse()\n",
    "print(*a,sep=\"\")"
   ]
  },
  {
   "cell_type": "code",
   "execution_count": 41,
   "metadata": {},
   "outputs": [
    {
     "name": "stdout",
     "output_type": "stream",
     "text": [
      "array('u', 'aryan moriwhy')\n"
     ]
    }
   ],
   "source": [
    "#extend()\n",
    "import array as arr\n",
    "\n",
    "b = input()\n",
    "c = input()\n",
    "a = arr.array('u',b)\n",
    "a.extend(c)\n",
    "print(a)"
   ]
  },
  {
   "cell_type": "code",
   "execution_count": 42,
   "metadata": {},
   "outputs": [
    {
     "name": "stdout",
     "output_type": "stream",
     "text": [
      "3\n"
     ]
    }
   ],
   "source": [
    "#count () in array\n",
    "import array\n",
    "\n",
    "b = input()\n",
    "a = array.array('u',b)\n",
    "print(a.count('a'))"
   ]
  },
  {
   "cell_type": "code",
   "execution_count": 64,
   "metadata": {},
   "outputs": [
    {
     "name": "stdout",
     "output_type": "stream",
     "text": [
      "[11, 22, 33, 44, 55]\n"
     ]
    }
   ],
   "source": [
    "#add 2 arrays\n",
    "\n",
    "import array\n",
    "\n",
    "a = array.array('i',[1,2,3,4,5])\n",
    "b = array.array('i',[10,20,30,40,50])\n",
    "d = []\n",
    "for i in range(len(a)):\n",
    "    d.append(a[i]+b[i])\n",
    "print(d)"
   ]
  },
  {
   "cell_type": "code",
   "execution_count": 66,
   "metadata": {},
   "outputs": [
    {
     "name": "stdout",
     "output_type": "stream",
     "text": [
      "[5, 10, 15, 20, 25]\n"
     ]
    }
   ],
   "source": [
    "#multiply array a by 5\n",
    "\n",
    "import array \n",
    "\n",
    "b = []\n",
    "a = array.array('i',[1,2,3,4,5])\n",
    "for i in range (len(a)):\n",
    "    b.append(a[i]*5)\n",
    "print(b)"
   ]
  },
  {
   "cell_type": "code",
   "execution_count": 90,
   "metadata": {},
   "outputs": [
    {
     "name": "stdout",
     "output_type": "stream",
     "text": [
      "1-->None\n",
      "Output: LinkedList Insertion at the Beginning\n",
      "4-->3-->2-->1-->1-->None\n"
     ]
    }
   ],
   "source": [
    "#linkedlist -- collection of nodes\n",
    "'''\n",
    "class Node(object):\n",
    "    #each node has its data and a pointer that points to next node in the list\n",
    "    def __init__(self,data,next=None):\n",
    "        self.data = data\n",
    "        self.next = next\n",
    "        \n",
    "    def setData(self,data):\n",
    "        self.data = data\n",
    "    \n",
    "    def getData(self,data):\n",
    "        return self.data\n",
    "    \n",
    "    def setNext(self,next):\n",
    "        self.next = next\n",
    "     \n",
    "    def getNext(self,next):\n",
    "        return self.next\n",
    "'''\n",
    "\n",
    "class Node:\n",
    "    def __init__(self, data=None, next=None):\n",
    "        self.data = data\n",
    "        self.next = next\n",
    "\n",
    "class LinkedList:\n",
    "    def __init__(self):\n",
    "        self.head = None\n",
    "\n",
    "    def printLinkedList(self):\n",
    "        temp = self.head\n",
    "        while temp:\n",
    "            print(temp.data, end=\"-->\")\n",
    "            temp = temp.next\n",
    "        print(\"None\")\n",
    "\n",
    "    def insertAtStart(self, data):\n",
    "        newNode = Node(data)\n",
    "        newNode.next = self.head\n",
    "        self.head = newNode\n",
    "\n",
    "li = LinkedList()\n",
    "li.head = Node(1)\n",
    "li.printLinkedList()\n",
    "\n",
    "N = int(input(\"How many nodes to insert? \"))\n",
    "for i in range(N):\n",
    "    val = int(input(\"Enter node value: \"))\n",
    "    li.insertAtStart(val)\n",
    "\n",
    "print(\"Output: LinkedList Insertion at the Beginning\")\n",
    "li.printLinkedList()\n"
   ]
  },
  {
   "cell_type": "code",
   "execution_count": 88,
   "metadata": {},
   "outputs": [
    {
     "name": "stdout",
     "output_type": "stream",
     "text": [
      "1-->None\n",
      "Output: LinkedList Insertion at the Back\n",
      "1-->1-->2-->3-->4-->None\n"
     ]
    }
   ],
   "source": [
    "class Node:\n",
    "    def __init__(self, data=None, next=None):\n",
    "        self.data = data\n",
    "        self.next = next\n",
    "\n",
    "class LinkedList:\n",
    "    def __init__(self):\n",
    "        self.head = None\n",
    "\n",
    "    def printLinkedList(self):\n",
    "        temp = self.head\n",
    "        while temp:\n",
    "            print(temp.data, end=\"-->\")\n",
    "            temp = temp.next\n",
    "        print(\"None\")\n",
    "\n",
    "    def insertAtBack(self, data):\n",
    "        newNode = Node(data)\n",
    "        if not self.head:\n",
    "            self.head = newNode\n",
    "            return\n",
    "\n",
    "        temp = self.head\n",
    "        while temp.next:\n",
    "            temp = temp.next\n",
    "\n",
    "        temp.next = newNode\n",
    "\n",
    "li = LinkedList()\n",
    "li.head = Node(1)\n",
    "li.printLinkedList()\n",
    "\n",
    "N = int(input(\"How many nodes to insert? \"))\n",
    "for i in range(N):\n",
    "    val = int(input(\"Enter node value: \"))\n",
    "    li.insertAtBack(val)\n",
    "\n",
    "print(\"Output: LinkedList Insertion at the Back\")\n",
    "li.printLinkedList()\n"
   ]
  }
 ],
 "metadata": {
  "kernelspec": {
   "display_name": "Python 3",
   "language": "python",
   "name": "python3"
  },
  "language_info": {
   "codemirror_mode": {
    "name": "ipython",
    "version": 3
   },
   "file_extension": ".py",
   "mimetype": "text/x-python",
   "name": "python",
   "nbconvert_exporter": "python",
   "pygments_lexer": "ipython3",
   "version": "3.11.4"
  }
 },
 "nbformat": 4,
 "nbformat_minor": 2
}
