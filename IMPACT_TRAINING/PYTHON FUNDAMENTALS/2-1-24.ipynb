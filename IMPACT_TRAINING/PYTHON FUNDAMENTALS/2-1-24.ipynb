{
 "cells": [
  {
   "cell_type": "code",
   "execution_count": null,
   "metadata": {},
   "outputs": [],
   "source": [
    "# sorted()\n",
    "\n",
    "a = \"aryan\"\n",
    "a = sorted(a)\n",
    "print(a)\n",
    "\n",
    "li = [10,70,100,203,20,67]\n",
    "li.sort(reverse=True)\n",
    "print(li)\n",
    "res = sorted(li,reverse=True)\n",
    "print(res)"
   ]
  },
  {
   "cell_type": "code",
   "execution_count": null,
   "metadata": {},
   "outputs": [],
   "source": [
    "# reversed()\n",
    "\n",
    "li = [10,20,405,10,7,2300]\n",
    "print(li)\n",
    "res = list(reversed(li))\n",
    "print(res)"
   ]
  },
  {
   "cell_type": "code",
   "execution_count": null,
   "metadata": {},
   "outputs": [],
   "source": [
    "#list comprehension\n",
    "\n",
    "N = int(input())\n",
    "square = [i*i for i in range(1,N+1)]\n",
    "print(square)"
   ]
  },
  {
   "cell_type": "code",
   "execution_count": null,
   "metadata": {},
   "outputs": [],
   "source": [
    "N = int(input())\n",
    "a = []\n",
    "j= 1\n",
    "i = 1\n",
    "for i in range(i,N+1):\n",
    "    for j in range(j,N+1):\n",
    "        a.append((i+j)*10)\n",
    "print(a)\n",
    "\n",
    "N = int(input())\n",
    "a = []\n",
    "ok = [(i + j) * 10 for i in range(1, N + 1) for j in range(1, N + 1)]\n",
    "print(ok)\n"
   ]
  },
  {
   "cell_type": "code",
   "execution_count": null,
   "metadata": {},
   "outputs": [],
   "source": [
    "# list comprehension\n",
    "\n",
    "my = ['q','p']\n",
    "n = 4\n",
    "x,y = 1,1\n",
    "new = ['{}{}'.format(x,y) for y in range (y,n+1) for x in my]\n",
    "print(new)"
   ]
  },
  {
   "cell_type": "code",
   "execution_count": null,
   "metadata": {},
   "outputs": [],
   "source": [
    "#returns consonants\n",
    "\n",
    "a = input()\n",
    "b = \"AEIOUaeiou\"\n",
    "con = [char for char in a if char not in b]\n",
    "print(con)"
   ]
  },
  {
   "cell_type": "code",
   "execution_count": null,
   "metadata": {},
   "outputs": [],
   "source": [
    "#which strings in uppercase\n",
    "\n",
    "a = input()\n",
    "b = [i for i in a if i.isupper()]\n",
    "print(b)"
   ]
  },
  {
   "cell_type": "code",
   "execution_count": null,
   "metadata": {},
   "outputs": [],
   "source": [
    "l = [[5*i + j for j in range(1,6)] for i in range(5)]\n",
    "print(l)"
   ]
  },
  {
   "cell_type": "code",
   "execution_count": null,
   "metadata": {},
   "outputs": [],
   "source": [
    "#replace all zero of list on right side\n",
    "\n",
    "a = [0, 1, 4, 0, 0, 0, 2, 30, 0, 4]\n",
    "sorted_a = sorted(a, key=lambda x: x == 0)\n",
    "print(sorted_a)     \n",
    "\n"
   ]
  },
  {
   "cell_type": "code",
   "execution_count": null,
   "metadata": {},
   "outputs": [],
   "source": [
    "#generate a unique list\n",
    "\n",
    "a = [1,2,3,1,2,3]\n",
    "b = []\n",
    "a = [b.append(i) for i in a if i not in b]\n",
    "print(b)"
   ]
  },
  {
   "cell_type": "code",
   "execution_count": null,
   "metadata": {},
   "outputs": [],
   "source": [
    "#postion of uppercase letters\n",
    "\n",
    "word = input()\n",
    "res = [word.index(l) for l in word if l.isupper()]\n",
    "print(res)"
   ]
  },
  {
   "cell_type": "code",
   "execution_count": null,
   "metadata": {},
   "outputs": [],
   "source": [
    "#append #insert #pop #sort #reverse #display\n",
    "\n",
    "l = [10, 20, 22, 11, 230, 7, 2]\n",
    "\n",
    "i=1\n",
    "b = int(input(\"1 for break and 0 for continue\"))\n",
    "while i>0:\n",
    "    if (b==1):\n",
    "        break\n",
    "    elif (b==0):\n",
    "        nc = int(input())\n",
    "        if nc == 1:\n",
    "            l.append(int(input()))\n",
    "            print(l)\n",
    "        elif nc == 2:\n",
    "            index = int(input(\"Enter the index: \"))\n",
    "            element = int(input(\"Enter the element: \"))\n",
    "            l.insert(index, element)\n",
    "            print(l)\n",
    "        elif nc == 3:\n",
    "            index = int(input(\"Enter the index to pop: \"))\n",
    "            l.pop(index)\n",
    "            print(l)\n",
    "        elif nc == 4:\n",
    "            l.sort()\n",
    "            print(l)\n",
    "        elif nc == 5:\n",
    "            l.reverse()\n",
    "            print(l)\n",
    "        elif nc == 6:\n",
    "            print(l)\n",
    "        elif nc == 7:\n",
    "            break"
   ]
  },
  {
   "cell_type": "code",
   "execution_count": null,
   "metadata": {},
   "outputs": [],
   "source": [
    "# # # # #\n",
    "#       #\n",
    "#       #\n",
    "#       #\n",
    "# # # # #\n",
    "\n",
    "a = int(input())\n",
    "i = 0\n",
    "for i in range (a):\n",
    "    if i==0 or i==(a-1):\n",
    "        print(\"# \"*a)\n",
    "    else:\n",
    "        print(\"# \",\" \"*(a-2),\" #\")\n",
    "        "
   ]
  },
  {
   "cell_type": "code",
   "execution_count": null,
   "metadata": {},
   "outputs": [],
   "source": [
    "a = int(input())\n",
    "fill = int(input())\n",
    "for i in range (a):\n",
    "    if i==0 or i==a-1:\n",
    "        print(\"# \"*a)\n",
    "    else:\n",
    "        print(\"#\",end=\" \")\n",
    "        j = 0\n",
    "        while (j<a-2 and fill>0):\n",
    "            print(\"$\",end=\" \")\n",
    "            j+=1\n",
    "            fill -= 1\n",
    "        while (j<a-2):\n",
    "            print(\" \",end=\" \")\n",
    "            j+=1\n",
    "        print(\"#\")\n",
    "if (fill>0):\n",
    "    print(fill, \"$ still left\")"
   ]
  },
  {
   "cell_type": "code",
   "execution_count": null,
   "metadata": {},
   "outputs": [],
   "source": [
    "#tuplex to make tuple mutable\n",
    "\n",
    "tuplex = (4,8,3)\n",
    "print(tuplex)\n",
    "n1,n2,n3 = tuplex #this will unpack a tuple in variables\n",
    "print(n1+n2+n3)"
   ]
  },
  {
   "cell_type": "code",
   "execution_count": null,
   "metadata": {},
   "outputs": [],
   "source": [
    "tuplex = (\"P\",\"Y\",\"T\",\"H\",\"O\",\"N\")\n",
    "print(tuplex)\n",
    "item = tuplex[3]\n",
    "print(item)\n",
    "count = tuplex.count(\"O\")\n",
    "print(count)"
   ]
  },
  {
   "cell_type": "code",
   "execution_count": null,
   "metadata": {},
   "outputs": [],
   "source": [
    "def same(tup):\n",
    "    return all(i==tup[0] for i in tup)\n",
    "tuple1 = (100,100,100,100)\n",
    "print(same(tuple1))\n",
    "tuple1 = (100,100,100,99)\n",
    "print(same(tuple1))"
   ]
  },
  {
   "cell_type": "code",
   "execution_count": null,
   "metadata": {},
   "outputs": [],
   "source": [
    "#sets\n",
    "#set is mutable and frozen set is immutable\n",
    "\n",
    "s = set()\n",
    "print(s,type(s))\n",
    "s = {100,200,\"hai\",True,2,0,False,100,200} #it does not allow duplicate\n",
    "print(s,type(s)) #unordered so you cant access by indexing"
   ]
  },
  {
   "cell_type": "code",
   "execution_count": null,
   "metadata": {},
   "outputs": [],
   "source": [
    "#typecasting to remove the duplicates\n",
    "\n",
    "li = [1,2,3,4,5,12,3,4,5]\n",
    "li = set(li) #to remove duplicates convert to set\n",
    "print(li)"
   ]
  },
  {
   "cell_type": "code",
   "execution_count": 3,
   "metadata": {},
   "outputs": [
    {
     "name": "stdout",
     "output_type": "stream",
     "text": [
      "{100}\n",
      "{50, 100}\n",
      "{'aryan', 100, 'r', 50, 'n', 'a', 'h', 'i', 'mori', 'y'}\n"
     ]
    }
   ],
   "source": [
    "#add and update in set\n",
    "\n",
    "s = set()\n",
    "s.add(100)\n",
    "print(s)\n",
    "s.add(50)\n",
    "print(s)\n",
    "s.update(\"hai\",\"aryan\")\n",
    "s.update([\"aryan\",\"mori\"])\n",
    "print(s)"
   ]
  },
  {
   "cell_type": "code",
   "execution_count": 8,
   "metadata": {},
   "outputs": [
    {
     "name": "stdout",
     "output_type": "stream",
     "text": [
      "before removing :  {1, 2, 3, 20, 40}\n"
     ]
    },
    {
     "ename": "KeyError",
     "evalue": "10",
     "output_type": "error",
     "traceback": [
      "\u001b[1;31m---------------------------------------------------------------------------\u001b[0m",
      "\u001b[1;31mKeyError\u001b[0m                                  Traceback (most recent call last)",
      "Cell \u001b[1;32mIn[8], line 5\u001b[0m\n\u001b[0;32m      3\u001b[0m x \u001b[38;5;241m=\u001b[39m {\u001b[38;5;241m3\u001b[39m,\u001b[38;5;241m20\u001b[39m,\u001b[38;5;241m40\u001b[39m,\u001b[38;5;241m2\u001b[39m,\u001b[38;5;241m1\u001b[39m,\u001b[38;5;241m3\u001b[39m}\n\u001b[0;32m      4\u001b[0m \u001b[38;5;28mprint\u001b[39m(\u001b[38;5;124m\"\u001b[39m\u001b[38;5;124mbefore removing : \u001b[39m\u001b[38;5;124m\"\u001b[39m,x)\n\u001b[1;32m----> 5\u001b[0m \u001b[43mx\u001b[49m\u001b[38;5;241;43m.\u001b[39;49m\u001b[43mremove\u001b[49m\u001b[43m(\u001b[49m\u001b[38;5;241;43m10\u001b[39;49m\u001b[43m)\u001b[49m \u001b[38;5;66;03m#remove will raise error if item not found\u001b[39;00m\n\u001b[0;32m      6\u001b[0m x\u001b[38;5;241m.\u001b[39mremove(\u001b[38;5;241m10\u001b[39m) \n\u001b[0;32m      7\u001b[0m \u001b[38;5;28mprint\u001b[39m(\u001b[38;5;124m\"\u001b[39m\u001b[38;5;124mAfter removing 3 : \u001b[39m\u001b[38;5;124m\"\u001b[39m,x)\n",
      "\u001b[1;31mKeyError\u001b[0m: 10"
     ]
    }
   ],
   "source": [
    "#remove and discard in set\n",
    "\n",
    "x = {3,20,40,2,1,3}\n",
    "print(\"before removing : \",x)\n",
    "x.remove(3) #remove will raise error if item not found\n",
    "print(\"After removing 3 : \",x)\n",
    "x.discard(10) #wont raise error if item not found\n",
    "print(x)"
   ]
  },
  {
   "cell_type": "code",
   "execution_count": 13,
   "metadata": {},
   "outputs": [
    {
     "name": "stdout",
     "output_type": "stream",
     "text": [
      "after copying :  {33, 11, 44, 22} {33, 11, 44, 22}\n",
      "after using clear function :  set()\n"
     ]
    },
    {
     "ename": "NameError",
     "evalue": "name 'x' is not defined",
     "output_type": "error",
     "traceback": [
      "\u001b[1;31m---------------------------------------------------------------------------\u001b[0m",
      "\u001b[1;31mNameError\u001b[0m                                 Traceback (most recent call last)",
      "Cell \u001b[1;32mIn[13], line 9\u001b[0m\n\u001b[0;32m      7\u001b[0m \u001b[38;5;28mprint\u001b[39m(\u001b[38;5;124m\"\u001b[39m\u001b[38;5;124mafter using clear function : \u001b[39m\u001b[38;5;124m\"\u001b[39m,y)\n\u001b[0;32m      8\u001b[0m \u001b[38;5;28;01mdel\u001b[39;00m x \u001b[38;5;66;03m#removes the set from memory itself\u001b[39;00m\n\u001b[1;32m----> 9\u001b[0m \u001b[38;5;28mprint\u001b[39m(\u001b[43mx\u001b[49m)\n",
      "\u001b[1;31mNameError\u001b[0m: name 'x' is not defined"
     ]
    }
   ],
   "source": [
    "#copy and clear and del in set\n",
    "\n",
    "x = {11,22,33,44,22}\n",
    "y = x.copy()\n",
    "print(\"after copying : \",x,y)\n",
    "y.clear()\n",
    "print(\"after using clear function : \",y)\n",
    "del x #removes the set from memory itself\n",
    "print(x) #error = variable also removed from memory"
   ]
  },
  {
   "cell_type": "code",
   "execution_count": 20,
   "metadata": {},
   "outputs": [
    {
     "name": "stdout",
     "output_type": "stream",
     "text": [
      "x - y:  {11, 44}\n",
      "y - x:  {1, 2, 3}\n",
      "difference x-y: None\n",
      "{11, 44}\n"
     ]
    }
   ],
   "source": [
    "#difference in set\n",
    "#difference_update in set\n",
    "\n",
    "x = {11,22,33,44,22}\n",
    "y = {1,2,3,22,33}\n",
    "print(\"x - y: \",x.difference(y))\n",
    "print(\"y - x: \",y-x)\n",
    "print(\"difference x-y:\",x.difference_update(y)) \n",
    "print(x) #x is updated to (x-y)"
   ]
  },
  {
   "cell_type": "code",
   "execution_count": 3,
   "metadata": {},
   "outputs": [
    {
     "name": "stdout",
     "output_type": "stream",
     "text": [
      "{'aryan'}\n"
     ]
    }
   ],
   "source": [
    "\n",
    "\n",
    "lib1 = set([\"aryan\",\"mori\",\"tensorflow\"])\n",
    "lib2 = set([\"seaborn\",\"beautifulshop\",\"aryan\"])\n",
    "lib3 = lib1 & lib2 #intersection symbol ---> &\n",
    "print(lib3)"
   ]
  },
  {
   "cell_type": "code",
   "execution_count": 40,
   "metadata": {},
   "outputs": [
    {
     "name": "stdout",
     "output_type": "stream",
     "text": [
      "1       5\n",
      "  2   4\n",
      "    3\n",
      "  2   4\n",
      "1       5\n"
     ]
    }
   ],
   "source": [
    "# pattern 1     5\n",
    "#          2   4\n",
    "#            3   \n",
    "#          2   4\n",
    "#         1     5\n",
    "\n",
    "a = 6\n",
    "i = 1\n",
    "for i in range (a):\n",
    "    if i==1 or i==5:\n",
    "        print(\"1\",\" \"*(a-1),\"5\")\n",
    "    elif i==2 or i==4:\n",
    "        print(\" \",\"2\",\" \",\"4\")\n",
    "    elif i==3:\n",
    "        print(\" \"*(a-3),\"3\")"
   ]
  },
  {
   "cell_type": "code",
   "execution_count": 49,
   "metadata": {},
   "outputs": [
    {
     "name": "stdout",
     "output_type": "stream",
     "text": [
      "1      5\n",
      " 2   4\n",
      "   3\n"
     ]
    }
   ],
   "source": [
    "N = 5\n",
    "i = 1\n",
    "for i in range (N):\n",
    "    if i==1:\n",
    "        print(\"1\",\" \"*(a-2),\"5\")\n",
    "    elif i==2:\n",
    "        print(\"\",\"2\",\" \",\"4\")\n",
    "    elif i==3:\n",
    "        print(\" \"*2,\"3\")"
   ]
  }
 ],
 "metadata": {
  "kernelspec": {
   "display_name": "Python 3",
   "language": "python",
   "name": "python3"
  },
  "language_info": {
   "codemirror_mode": {
    "name": "ipython",
    "version": 3
   },
   "file_extension": ".py",
   "mimetype": "text/x-python",
   "name": "python",
   "nbconvert_exporter": "python",
   "pygments_lexer": "ipython3",
   "version": "3.11.4"
  }
 },
 "nbformat": 4,
 "nbformat_minor": 2
}
