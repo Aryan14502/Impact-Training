{
 "cells": [
  {
   "cell_type": "code",
   "execution_count": 5,
   "metadata": {},
   "outputs": [
    {
     "name": "stdout",
     "output_type": "stream",
     "text": [
      "12 <class 'int'>\n",
      "15\n"
     ]
    }
   ],
   "source": [
    "#eval method risky due to data injection risk\n",
    "a = eval(input())\n",
    "print(a,type(a))\n",
    "\n",
    "\n",
    "print(eval(\"3*4+(5-2)\"))"
   ]
  },
  {
   "cell_type": "code",
   "execution_count": 20,
   "metadata": {},
   "outputs": [
    {
     "name": "stdout",
     "output_type": "stream",
     "text": [
      "['aryanmori 1111 33313 ', '31', '41', '3', '13', '']\n",
      "72\n"
     ]
    }
   ],
   "source": [
    "#11 22 33\n",
    "a = input().split(\"2\") #splits the int/string when it sees the argument in the input eg:2\n",
    "print(a)\n",
    "print(int(a[1])+int(a[2]))"
   ]
  },
  {
   "cell_type": "code",
   "execution_count": 27,
   "metadata": {},
   "outputs": [
    {
     "name": "stdout",
     "output_type": "stream",
     "text": [
      "['11', '22']\n",
      "[11, 22]\n"
     ]
    }
   ],
   "source": [
    "a = [i for i in input().split()] #it stores in string\n",
    "print(a)\n",
    "a = [int(i) for i in input().split()] #it stores in int\n",
    "print(a)"
   ]
  },
  {
   "cell_type": "code",
   "execution_count": 30,
   "metadata": {},
   "outputs": [
    {
     "name": "stdout",
     "output_type": "stream",
     "text": [
      "['False', 'None', 'True', 'and', 'as', 'assert', 'async', 'await', 'break', 'class', 'continue', 'def', 'del', 'elif', 'else', 'except', 'finally', 'for', 'from', 'global', 'if', 'import', 'in', 'is', 'lambda', 'nonlocal', 'not', 'or', 'pass', 'raise', 'return', 'try', 'while', 'with', 'yield']\n",
      "35\n"
     ]
    }
   ],
   "source": [
    "#types of data types\n",
    "#numbers, strings, list, tuple, dictionary, set\n",
    "#except number all are also known as collections/sequence\n",
    "\n",
    "#types of keyword\n",
    "import keyword\n",
    "print(keyword.kwlist)\n",
    "print(len(keyword.kwlist))"
   ]
  },
  {
   "cell_type": "code",
   "execution_count": 35,
   "metadata": {},
   "outputs": [
    {
     "name": "stdout",
     "output_type": "stream",
     "text": [
      "aryan deepakkumar dhirajlal mori <class 'str'>\n",
      "happy codingin python\n"
     ]
    }
   ],
   "source": [
    "#Strings\n",
    "s = 'aryan ' \"deepakkumar \" '''dhirajlal ''' \"\"\"mori\"\"\"\n",
    "print(s,type(s))\n",
    "\n",
    "a = \"happy coding\"\n",
    "print(a+\" in python\")"
   ]
  },
  {
   "cell_type": "code",
   "execution_count": 40,
   "metadata": {},
   "outputs": [
    {
     "name": "stdout",
     "output_type": "stream",
     "text": [
      "*\n",
      "**\n",
      "***\n"
     ]
    }
   ],
   "source": [
    "#pattern\n",
    "print(\"*\"*1)\n",
    "print(\"*\"*2)\n",
    "print(\"*\"*3)\n"
   ]
  },
  {
   "cell_type": "code",
   "execution_count": 47,
   "metadata": {},
   "outputs": [
    {
     "name": "stdout",
     "output_type": "stream",
     "text": [
      "p\n",
      "ppy codi\n",
      "pycd\n",
      "happy\n",
      "coding in python\n",
      "happy coding in python\n",
      "nohtyp ni gnidoc yppah\n"
     ]
    }
   ],
   "source": [
    "#slicing in string [start_index : stop_index : step count]\n",
    "\n",
    "a = \"happy coding in python\"\n",
    "print(a[2])\n",
    "print(a[2:10])\n",
    "print(a[2:10:2])\n",
    "print(a[:5])\n",
    "print(a[6:])\n",
    "print(a[:])\n",
    "print(a[::-1]) #reverse of the string"
   ]
  },
  {
   "cell_type": "code",
   "execution_count": 51,
   "metadata": {},
   "outputs": [
    {
     "name": "stdout",
     "output_type": "stream",
     "text": [
      "not palindrome\n",
      "not palindrome\n"
     ]
    }
   ],
   "source": [
    "#to check palindrome\n",
    "a = input()\n",
    "if (a[::1]==a[::-1]):\n",
    "    print(\"palindrome\")\n",
    "else:\n",
    "    print(\"not palindrome\")    \n",
    "    \n",
    "#ternary operator\n",
    "print(\"palindrome\" if input()[::-1] == input() else \"not palindrome\")    "
   ]
  },
  {
   "cell_type": "code",
   "execution_count": 56,
   "metadata": {},
   "outputs": [
    {
     "name": "stdout",
     "output_type": "stream",
     "text": [
      "scalene\n"
     ]
    }
   ],
   "source": [
    "#if statements\n",
    "#check the angle of triangle\n",
    "\n",
    "x,y,z = int(input()),int(input()),int(input())\n",
    "\n",
    "if(x==y==z):\n",
    "    print(\"equilateral\")\n",
    "elif(x==y or y==z or x==z):\n",
    "    print(\"isosceles\")\n",
    "else: #elif(x!=y and y!=z and z!=x)\n",
    "    print(\"scalene\")"
   ]
  },
  {
   "cell_type": "code",
   "execution_count": 2,
   "metadata": {},
   "outputs": [
    {
     "name": "stdout",
     "output_type": "stream",
     "text": [
      "upper berth\n"
     ]
    }
   ],
   "source": [
    "#check the berth as per the berth number\n",
    "a = int(input())\n",
    "if (a%8==1 or a%8==4):\n",
    "    print(\"lower berth\")\n",
    "elif (a%8==2 or a%8==5):\n",
    "    print(\"middle berth\")\n",
    "elif (a%8==3 or a%8==6):\n",
    "    print(\"upper berth\")\n",
    "elif (a%8==7):\n",
    "    print(\"side lower\")\n",
    "elif (a%8==0):\n",
    "    print(\"side upper\")\n",
    "else:\n",
    "    print(\"invalid berth\")\n",
    "        "
   ]
  },
  {
   "cell_type": "code",
   "execution_count": 8,
   "metadata": {},
   "outputs": [
    {
     "name": "stdout",
     "output_type": "stream",
     "text": [
      "The electricity bill is: 500\n"
     ]
    }
   ],
   "source": [
    "#1-100 = 2, 101-250 = 3, 250-500 = 4,500-1k = 5, 1000< = 7\n",
    "\n",
    "pm = int(input(\"Enter the previous meter reading: \"))\n",
    "cm = int(input(\"Enter the current meter reading: \"))\n",
    "\n",
    "read = cm - pm\n",
    "\n",
    "if read <= 100:\n",
    "    cost = 2 * read\n",
    "elif read <= 250:\n",
    "    cost = 2 * 100 + 3 * (read - 100)\n",
    "elif read <= 500:\n",
    "    cost = 2 * 100 + 3 * 150 + 4 * (read - 250)\n",
    "elif read < 1000:\n",
    "    cost = 2 * 100 + 3 * 150 + 4 * 250 + 5 * (read - 500)\n",
    "else:\n",
    "    cost = 2 * 100 + 3 * 150 + 4 * 250 + 5 * 500 + 7 * (read - 1000)\n",
    "\n",
    "print(f\"The electricity bill is: {cost}\")\n"
   ]
  }
 ],
 "metadata": {
  "kernelspec": {
   "display_name": "Python 3",
   "language": "python",
   "name": "python3"
  },
  "language_info": {
   "codemirror_mode": {
    "name": "ipython",
    "version": 3
   },
   "file_extension": ".py",
   "mimetype": "text/x-python",
   "name": "python",
   "nbconvert_exporter": "python",
   "pygments_lexer": "ipython3",
   "version": "3.11.4"
  }
 },
 "nbformat": 4,
 "nbformat_minor": 2
}
