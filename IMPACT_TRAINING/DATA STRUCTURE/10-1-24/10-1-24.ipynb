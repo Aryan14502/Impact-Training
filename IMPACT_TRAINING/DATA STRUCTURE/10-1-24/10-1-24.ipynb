{
 "cells": [
  {
   "cell_type": "code",
   "execution_count": null,
   "metadata": {},
   "outputs": [],
   "source": [
    "#Decorators \n",
    "a = 10\n",
    "def out_func():\n",
    "    def in_func():\n",
    "        print(a)\n",
    "    return in_func\n",
    "test1 = out_func()\n",
    "print(test1)"
   ]
  },
  {
   "cell_type": "code",
   "execution_count": null,
   "metadata": {},
   "outputs": [],
   "source": [
    "\n",
    "n = 4\n",
    "def a():\n",
    "    n = n+10\n",
    "    print(\"INSIDE THE FUNCTION : \",dir())\n",
    "a()\n",
    "\n",
    "#UnboundLocalError: cannot access local variable 'n' where it is not associated with a value\n",
    "#n = 4 is a different variable and n = 10 is different variable inside the function\n",
    "\n",
    "#solution\n",
    "#global keyword is used\n",
    "n = 4\n",
    "def a():\n",
    "    global n \n",
    "    n = n+10\n",
    "    print(\"INSIDE THE FUNCTION : \",n,dir())\n",
    "a()"
   ]
  },
  {
   "cell_type": "code",
   "execution_count": null,
   "metadata": {},
   "outputs": [],
   "source": [
    "#nonlocal keyword is used to modify the variable inside the local loop \n",
    "#used to find variables in outer functions instead of global variables\n",
    "\n",
    "z=10\n",
    "def outer():\n",
    "    z = 15\n",
    "    print()\n",
    "    def inner():\n",
    "        y = 10\n",
    "        nonlocal z\n",
    "        z+=1\n",
    "        print(\"y = \",y)\n",
    "        print(\"insided inner : \",z)\n",
    "    inner()\n",
    "    print(\"outside function : \",z)\n",
    "outer()"
   ]
  },
  {
   "cell_type": "code",
   "execution_count": null,
   "metadata": {},
   "outputs": [],
   "source": [
    "def print_args(func):\n",
    "    def inner_func(*args, **kwargs):\n",
    "        print(\"Execution of the multiply_nums started\")\n",
    "        result = func(*args, **kwargs)\n",
    "        print(\"Execution finished\")\n",
    "        return result\n",
    "    return inner_func\n",
    "\n",
    "@print_args\n",
    "def multiply_nums(a, b):\n",
    "    return a * b\n",
    "\n",
    "print(multiply_nums(10, 20))\n"
   ]
  },
  {
   "cell_type": "code",
   "execution_count": null,
   "metadata": {},
   "outputs": [],
   "source": [
    "#GENERATOR  \n",
    "\n",
    "def gencubes(n):\n",
    "    for num in range(n):\n",
    "        yield num**3\n",
    "    \n",
    "for x in gencubes(11):\n",
    "    print(x)\n",
    "    \n",
    "#different way\n",
    "\n",
    "def gencubes(n):\n",
    "    for i in range(n):\n",
    "        yield i**3\n",
    "for i in gencubes(10):\n",
    "    print (i)"
   ]
  },
  {
   "cell_type": "code",
   "execution_count": null,
   "metadata": {},
   "outputs": [],
   "source": [
    "def genAlpha(n,skip,a):\n",
    "    for i in range(int(ord(a)),int(ord(n))+1,skip):\n",
    "        yield chr(i)\n",
    "a = input(\"Start\")\n",
    "n = input(\"End\")\n",
    "skip = int(input(\"Steps\"))\n",
    "for i in genAlpha(n,skip,a):\n",
    "    print(i)"
   ]
  },
  {
   "cell_type": "code",
   "execution_count": null,
   "metadata": {},
   "outputs": [],
   "source": [
    "import random\n",
    "\n",
    "def generate_random_numbers(start, end, n):\n",
    "    for _ in range(n):\n",
    "        yield random.randint(start, end)\n",
    "\n",
    "for number in generate_random_numbers(start=1, end=10, n=12):\n",
    "    print(number)\n"
   ]
  },
  {
   "cell_type": "code",
   "execution_count": null,
   "metadata": {},
   "outputs": [],
   "source": [
    "class Person:\n",
    "    name = \"aryan\"\n",
    "    def __init__(self,name,age):\n",
    "        self.name = name\n",
    "        self.age = age\n",
    "    def __str__(self):\n",
    "        return (f'{self.name},{self.age}')\n",
    "    def assignValue(self, name, age):\n",
    "        self.name = name\n",
    "        self.age = age\n",
    "    def printVlalues(self):\n",
    "        print(f\"{self.name},{self.age}\")\n",
    "        self.__prvPrint()\n",
    "    def __prvPrint(self):\n",
    "        print(\"Hello\")\n",
    "        \n",
    "p1 = Person(\"John\",36)\n",
    "print(p1)\n",
    "p1.assignValue(\"Aryan\",21)\n",
    "p1.printVlalues()\n",
    "p2 = p1\n",
    "print(\"p2\",p2)\n",
    "print(\"p1\",p1)\n",
    "p1._Person__prvPrint()"
   ]
  },
  {
   "cell_type": "markdown",
   "metadata": {},
   "source": [
    "without creating an object can we access the class variable in c++?\n",
    "yes we can.\n",
    "\n",
    "DEEP COPY = copies the actual data\n",
    "SHALLOW COPY = copier the pointer and address of the data from the previous pointer\n",
    "\n",
    "if (stackList == NULL):\n",
    "        first = int(input())\n",
    "        stackList.append(first)\n",
    "    elif (stackList!=NULL):\n",
    "        inside = int(input())\n",
    "        stackList.append(inside())\n",
    "    elif (stackList!=NULL):\n",
    "        stackList.pop()"
   ]
  },
  {
   "cell_type": "code",
   "execution_count": 38,
   "metadata": {},
   "outputs": [
    {
     "name": "stdout",
     "output_type": "stream",
     "text": [
      "Do you wish to continue? (1/0)\n",
      "1. Append to list\n",
      "2. Pop\n",
      "3. Display\n",
      "4. Exit\n",
      "Do you wish to continue? (1/0)\n",
      "1. Append to list\n",
      "2. Pop\n",
      "3. Display\n",
      "4. Exit\n",
      "Do you wish to continue? (1/0)\n"
     ]
    }
   ],
   "source": [
    "class Stack1():\n",
    "    stackList = []\n",
    "\n",
    "    def push1(self):\n",
    "        if not self.stackList:\n",
    "            first = input(\"Enter value to append: \")\n",
    "            self.stackList.append(first)\n",
    "        else:\n",
    "            inside = input(\"Enter value to append: \")\n",
    "            self.stackList.append(inside)\n",
    "\n",
    "    def pop1(self):\n",
    "        if not self.stackList:\n",
    "            print(\"There is no element to pop.\")\n",
    "        else:\n",
    "            self.stackList.pop()\n",
    "\n",
    "    def display1(self):\n",
    "        print(self.stackList)\n",
    "\n",
    "obj = Stack1()\n",
    "\n",
    "while True:\n",
    "    print(\"Do you wish to continue? (1/0)\")\n",
    "    a = int(input())\n",
    "    \n",
    "    if a == 1:\n",
    "        print(\"1. Append to list\")\n",
    "        print(\"2. Pop\")\n",
    "        print(\"3. Display\")\n",
    "        print(\"4. Exit\")\n",
    "        b = int(input())\n",
    "\n",
    "        if b == 1:\n",
    "            obj.push1()\n",
    "        elif b == 2:\n",
    "            obj.pop1()\n",
    "        elif b == 3:\n",
    "            obj.display1()\n",
    "        elif b == 4:\n",
    "            break\n",
    "    else:\n",
    "        break\n"
   ]
  },
  {
   "cell_type": "code",
   "execution_count": 29,
   "metadata": {},
   "outputs": [
    {
     "name": "stdout",
     "output_type": "stream",
     "text": [
      "Choose the operations\n",
      "1. Append to list\n",
      "2. Pop\n",
      "3. Display\n",
      "4. Exit\n"
     ]
    },
    {
     "ename": "TypeError",
     "evalue": "stack.pushMethod() takes 1 positional argument but 2 were given",
     "output_type": "error",
     "traceback": [
      "\u001b[1;31m---------------------------------------------------------------------------\u001b[0m",
      "\u001b[1;31mTypeError\u001b[0m                                 Traceback (most recent call last)",
      "Cell \u001b[1;32mIn[29], line 36\u001b[0m\n\u001b[0;32m     34\u001b[0m \u001b[38;5;28;01mif\u001b[39;00m choice \u001b[38;5;241m==\u001b[39m \u001b[38;5;241m1\u001b[39m:\n\u001b[0;32m     35\u001b[0m     element \u001b[38;5;241m=\u001b[39m \u001b[38;5;28mint\u001b[39m(\u001b[38;5;28minput\u001b[39m(\u001b[38;5;124m\"\u001b[39m\u001b[38;5;124mEnter the element you want to push\u001b[39m\u001b[38;5;124m\"\u001b[39m))\n\u001b[1;32m---> 36\u001b[0m     \u001b[43mobj\u001b[49m\u001b[38;5;241;43m.\u001b[39;49m\u001b[43mpushMethod\u001b[49m\u001b[43m(\u001b[49m\u001b[43melement\u001b[49m\u001b[43m)\u001b[49m\n\u001b[0;32m     37\u001b[0m \u001b[38;5;28;01melif\u001b[39;00m coice \u001b[38;5;241m==\u001b[39m \u001b[38;5;241m3\u001b[39m:\n\u001b[0;32m     38\u001b[0m     obj\u001b[38;5;241m.\u001b[39mdisplayMethod()\n",
      "\u001b[1;31mTypeError\u001b[0m: stack.pushMethod() takes 1 positional argument but 2 were given"
     ]
    }
   ],
   "source": [
    "class stack():\n",
    "    top = 0\n",
    "    bottom = 0\n",
    "    max = 0\n",
    "    \n",
    "    def pushMethod(element):\n",
    "        global top, max\n",
    "        if (top == max):\n",
    "            print(\"Overflow\")\n",
    "            return\n",
    "        stackList.append(element)\n",
    "        top+=1\n",
    "         \n",
    "    def popMethod():\n",
    "        global top,bottom\n",
    "        if (top==bottom):\n",
    "            print(\"under flow\")\n",
    "        print(f\"l{top} is popped\")\n",
    "        stackList.pop()\n",
    "        \n",
    "    def displayMethod():\n",
    "        print(stackList)\n",
    "  \n",
    "stackList = []\n",
    "obj=stack()\n",
    "while(True):\n",
    "    print(\"Choose the operations\")\n",
    "    print(\"1. Append to list\")\n",
    "    print(\"2. Pop\")\n",
    "    print(\"3. Display\")\n",
    "    print(\"4. Exit\")\n",
    "    choice = int(input())\n",
    "    if choice == 1:\n",
    "        element = int(input(\"Enter the element you want to push\"))\n",
    "        obj.pushMethod(element)\n",
    "    elif coice == 3:\n",
    "        obj.displayMethod()"
   ]
  }
 ],
 "metadata": {
  "language_info": {
   "name": "python"
  }
 },
 "nbformat": 4,
 "nbformat_minor": 2
}
