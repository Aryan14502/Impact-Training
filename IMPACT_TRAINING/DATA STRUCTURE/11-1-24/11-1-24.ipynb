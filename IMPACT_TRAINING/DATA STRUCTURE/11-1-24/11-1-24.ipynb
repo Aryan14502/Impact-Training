{
 "cells": [
  {
   "cell_type": "code",
   "execution_count": 33,
   "metadata": {},
   "outputs": [
    {
     "name": "stdout",
     "output_type": "stream",
     "text": [
      "(({))}\n",
      "invalid parenthesis\n"
     ]
    }
   ],
   "source": [
    "#check paranthesis () is valid or not\n",
    "input1 = input()\n",
    "print(input1)\n",
    "stack = []\n",
    "for i in input1:\n",
    "    stack.append(i)\n",
    "if (stack[0]==\")\" or stack[0]==\"]\" or stack[0]==\"}\"):\n",
    "    print(\"invalid parenthesis\")\n",
    "else:\n",
    "    if((len(input1)%2)==0):\n",
    "        print(\"it is a valid parenthesis\")\n",
    "    else:\n",
    "        print(\"invalid parenthesis\")"
   ]
  },
  {
   "cell_type": "code",
   "execution_count": 40,
   "metadata": {},
   "outputs": [
    {
     "name": "stdout",
     "output_type": "stream",
     "text": [
      "1.Continue\n",
      "2.Check\n",
      "3.Display\n",
      "4.Exit\n",
      "1.Continue\n",
      "2.Check\n",
      "3.Display\n",
      "4.Exit\n",
      "1.Continue\n",
      "2.Check\n",
      "3.Display\n",
      "4.Exit\n",
      "1.Continue\n",
      "2.Check\n",
      "3.Display\n",
      "4.Exit\n",
      "['(', ')', '(']\n",
      "1.Continue\n",
      "2.Check\n",
      "3.Display\n",
      "4.Exit\n",
      "Invalid\n",
      "1.Continue\n",
      "2.Check\n",
      "3.Display\n",
      "4.Exit\n",
      "End of program\n"
     ]
    }
   ],
   "source": [
    "class Paren:\n",
    "    stack1 = []\n",
    "\n",
    "    def push1(self):\n",
    "        element = input()\n",
    "        self.stack1.append(element)\n",
    "\n",
    "    def pop1(self):\n",
    "        self.stack1.pop()\n",
    "\n",
    "obj = Paren()\n",
    "\n",
    "flag = 1 \n",
    "while flag:\n",
    "    print(\"1.Continue\")\n",
    "    print(\"2.Check\")\n",
    "    print(\"3.Display\")\n",
    "    print(\"4.Exit\")\n",
    "    a = int(input())\n",
    "    \n",
    "    if a == 1:\n",
    "        obj.push1()\n",
    "        \n",
    "    elif a == 2:\n",
    "        if not obj.stack1:\n",
    "            print(\"Invalid parenthesis: Stack is empty\")\n",
    "        elif obj.stack1[0] == \")\":\n",
    "            print(\"Invalid parenthesis\")\n",
    "        else:\n",
    "            count = 0\n",
    "            for i in obj.stack1:\n",
    "                if i == \"(\":\n",
    "                    obj.pop1()\n",
    "                    count += 1\n",
    "            if count == len(obj.stack1):\n",
    "                print(\"Valid\")\n",
    "            else:\n",
    "                print(\"Invalid\")\n",
    "                \n",
    "    elif a == 3:\n",
    "        print(obj.stack1)\n",
    "        \n",
    "    elif a == 4:\n",
    "        flag = 0\n",
    "        print(\"End of program\")\n"
   ]
  },
  {
   "cell_type": "code",
   "execution_count": 5,
   "metadata": {},
   "outputs": [
    {
     "name": "stdout",
     "output_type": "stream",
     "text": [
      "['n', 'a', 'y', 'r', 'a']\n",
      "End of program\n"
     ]
    }
   ],
   "source": [
    "class Reverse:\n",
    "    stack1 = []\n",
    "    stack2 = []\n",
    "\n",
    "    def push1(self):\n",
    "        input1 = input(\"Enter a string: \")\n",
    "        for i in input1:\n",
    "            self.stack1.append(i)\n",
    "\n",
    "    def rev(self):\n",
    "        # Create a copy of stack1 and reverse it\n",
    "        reversed_stack = self.stack1[::-1]\n",
    "        self.stack2 = list(reversed_stack)\n",
    "        print(self.stack2)\n",
    "\n",
    "obj = Reverse()\n",
    "flag = 1\n",
    "while flag:\n",
    "    a = int(input(\"Enter 1 to push, 2 to reverse, or 0 to exit: \"))\n",
    "    if a == 1:\n",
    "        obj.push1()\n",
    "    elif a == 2:\n",
    "        obj.rev()\n",
    "    elif a == 0:\n",
    "        flag = 0\n",
    "        print(\"End of program\")\n"
   ]
  },
  {
   "cell_type": "code",
   "execution_count": 21,
   "metadata": {},
   "outputs": [
    {
     "name": "stdout",
     "output_type": "stream",
     "text": [
      "<__main__.StackClass object at 0x000001EB8C5E1E90>\n"
     ]
    }
   ],
   "source": [
    "class StackClass:\n",
    "    pass\n",
    "if __name__ == \"__main__\":\n",
    "    stack = StackClass()\n",
    "    print(stack)"
   ]
  },
  {
   "cell_type": "code",
   "execution_count": 17,
   "metadata": {},
   "outputs": [
    {
     "name": "stdout",
     "output_type": "stream",
     "text": [
      "30\n"
     ]
    }
   ],
   "source": [
    "#linkedlist in python\n",
    "#non optimised code\n",
    "\n",
    "class Node():\n",
    "    def __init__(self):\n",
    "        self.data = 0\n",
    "        self.next = None\n",
    "n1 = Node()\n",
    "n2 = Node()\n",
    "n3 = Node()\n",
    "\n",
    "n1.next = n2\n",
    "n2.next = n3\n",
    "\n",
    "n1.data = 10\n",
    "n2.data = 20\n",
    "n3.data = 30\n",
    "\n",
    "head = n1 \n",
    "\n",
    "print(head.data)\n",
    "head = head.next\n",
    "print(head.data)"
   ]
  },
  {
   "cell_type": "code",
   "execution_count": 26,
   "metadata": {},
   "outputs": [
    {
     "name": "stdout",
     "output_type": "stream",
     "text": [
      "List is : \n",
      "10->20->30->40->None\n",
      "List is : \n",
      "10->20->30->7->40->None\n"
     ]
    }
   ],
   "source": [
    "class Node:\n",
    "    def __init__(self, val=0):\n",
    "        self.data = val\n",
    "        self.next = None\n",
    "\n",
    "class LList:\n",
    "    def __init__(self):\n",
    "        self.head = None\n",
    "\n",
    "    def addNodeBeg(self):\n",
    "        newNode = Node()\n",
    "        newNode.data = int(input(\"Enter newNode value: \"))\n",
    "        if not self.head:\n",
    "            self.head = newNode\n",
    "            return\n",
    "        newNode.next = self.head\n",
    "        self.head = newNode\n",
    "\n",
    "    def appendNode(self):\n",
    "        newNode = Node()\n",
    "        newNode.data = int(input(\"Enter newNode value: \"))\n",
    "        if not self.head:\n",
    "            self.head = newNode\n",
    "            return\n",
    "        temp = self.head\n",
    "        while temp.next is not None:\n",
    "            temp = temp.next\n",
    "        temp.next = newNode\n",
    "\n",
    "    def printList(self):\n",
    "        temp = self.head  # Initialize temp with the head\n",
    "        print(\"List is : \")\n",
    "        while temp is not None:\n",
    "            print(f\"{temp.data}->\", end=\"\")\n",
    "            temp = temp.next\n",
    "        print(\"None\")\n",
    "        \n",
    "    def keyAddNode(self):\n",
    "        key = int(input(\"Enter the key you want to find\"))\n",
    "        temp = self.head\n",
    "        flag = False\n",
    "        while(temp.next!=None):\n",
    "            if (temp.data == key):\n",
    "                flag = True\n",
    "                break\n",
    "            else :\n",
    "                temp = temp.next\n",
    "        if (flag == True):\n",
    "            t = temp.next\n",
    "            newNode = Node()\n",
    "            newNode.data = int(input(\"Enter newNode value : \"))\n",
    "            newNode.next = t\n",
    "            temp.next = newNode\n",
    "        else:\n",
    "            print(\"key not found\")\n",
    "        \n",
    "\n",
    "\n",
    "LL1 = LList()\n",
    "LL1.appendNode()\n",
    "LL1.appendNode()\n",
    "LL1.appendNode()\n",
    "LL1.appendNode()\n",
    "LL1.printList()\n",
    "LL1.keyAddNode()\n",
    "LL1.printList()\n"
   ]
  },
  {
   "cell_type": "code",
   "execution_count": null,
   "metadata": {},
   "outputs": [],
   "source": [
    "#Banking application\n",
    "\n",
    "class banking():\n",
    "    def __init__(self):\n",
    "        self.Snumber"
   ]
  },
  {
   "cell_type": "code",
   "execution_count": 3,
   "metadata": {},
   "outputs": [
    {
     "name": "stdout",
     "output_type": "stream",
     "text": [
      "[0, 0, 0]\n"
     ]
    }
   ],
   "source": [
    "N= 3\n",
    "li = [0]*N\n",
    "print(li)"
   ]
  }
 ],
 "metadata": {
  "kernelspec": {
   "display_name": "Python 3",
   "language": "python",
   "name": "python3"
  },
  "language_info": {
   "codemirror_mode": {
    "name": "ipython",
    "version": 3
   },
   "file_extension": ".py",
   "mimetype": "text/x-python",
   "name": "python",
   "nbconvert_exporter": "python",
   "pygments_lexer": "ipython3",
   "version": "3.11.4"
  }
 },
 "nbformat": 4,
 "nbformat_minor": 2
}
