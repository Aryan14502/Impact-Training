{
 "cells": [
  {
   "cell_type": "markdown",
   "metadata": {},
   "source": [
    "when there are overlapping subproblems in a program to be solved we use the a approach where we tend to remember the previous subproblems solution and that is what we call dynamic programming \n",
    "1.)#memoization(top down approach (n-0))\n",
    "2.)#tabulation(bottom up approach (0-n))\n",
    "3.)#space optimization over tabulation(remove extra space that is taken by the dp array)\n"
   ]
  },
  {
   "cell_type": "code",
   "execution_count": 8,
   "metadata": {},
   "outputs": [
    {
     "name": "stdout",
     "output_type": "stream",
     "text": [
      "21\n",
      "5358359254990966640871840\n"
     ]
    }
   ],
   "source": [
    "#fibonacci by memoization dp\n",
    "\n",
    "def fibo(n,dp):\n",
    "    if n<=1:\n",
    "        return n\n",
    "    dp[n] = fibo(n-1,dp)+fibo(n-2,dp)\n",
    "    return dp[n]\n",
    "if __name__=='__main__':\n",
    "    n = eval(input())\n",
    "    dp = [-1]*(n+1)\n",
    "    print(fibo(n,dp))\n",
    "    \n",
    "#fibonacci by tabulation dp\n",
    "\n",
    "def fibo(n,dp):\n",
    "    if n<=1:\n",
    "        return n\n",
    "    if dp[n]!=-1:\n",
    "        return dp[n]\n",
    "    dp[n] = fibo(n-1,dp)+fibo(n-2,dp)\n",
    "    return dp[n]\n",
    "if __name__=='__main__':\n",
    "    n = eval(input())\n",
    "    dp = [-1]*(n+1)\n",
    "    print(fibo(n,dp))\n",
    "    "
   ]
  },
  {
   "cell_type": "code",
   "execution_count": null,
   "metadata": {},
   "outputs": [],
   "source": [
    "#knapsack using dynamic programming \n",
    "\n",
    "def knapsack(n,W,values,weight):\n",
    "    if n==0:\n",
    "        if W>w[n]:\n",
    "            return val[n]\n",
    "        return 0\n",
    "    left  = values[n]+knapsack(n-1,W-weigh[n],values,weight)\n",
    "    right = 0+knapsack(n-1,W,vlaues,weight)\n",
    "    return max(left,right)\n",
    "n=4\n",
    "weight = [1,2,4,5]\n",
    "values = [5,4,8,6]\n",
    "W=5\n",
    "knapsack(n-1,W,values,weight)"
   ]
  }
 ],
 "metadata": {
  "kernelspec": {
   "display_name": "Python 3",
   "language": "python",
   "name": "python3"
  },
  "language_info": {
   "codemirror_mode": {
    "name": "ipython",
    "version": 3
   },
   "file_extension": ".py",
   "mimetype": "text/x-python",
   "name": "python",
   "nbconvert_exporter": "python",
   "pygments_lexer": "ipython3",
   "version": "3.11.4"
  }
 },
 "nbformat": 4,
 "nbformat_minor": 2
}
