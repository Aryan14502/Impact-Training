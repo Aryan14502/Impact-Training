{
 "cells": [
  {
   "cell_type": "code",
   "execution_count": null,
   "metadata": {},
   "outputs": [],
   "source": [
    "#recursion for dp\n",
    "\n",
    "#tail recursion\n",
    "def nameprint(s,t):\n",
    "    if t>0:\n",
    "        print(s,t)\n",
    "        nameprint(s,t-1) #tail recursion\n",
    "nameprint(\"aryan\",5)\n",
    "\n",
    "#head recursion\n",
    "def nameprint(s,t):\n",
    "    if t>0:\n",
    "        nameprint(s,t-1) #head recursion\n",
    "        print(s,t)\n",
    "nameprint(\"aryan\",5)"
   ]
  },
  {
   "cell_type": "code",
   "execution_count": null,
   "metadata": {},
   "outputs": [],
   "source": [
    "#n - 1 and 1 - n\n",
    "\n",
    "def print1_n(i,n):\n",
    "    if i>n:\n",
    "        return\n",
    "    print(i,end=\" \")\n",
    "    print1_n(i+1,n)\n",
    "print1_n(0,10)\n",
    "\n",
    "print()\n",
    "\n",
    "def printn_1(i,n):\n",
    "    if i>n:\n",
    "        return\n",
    "    printn_1(i+1,n)\n",
    "    print(i,end=\" \")\n",
    "printn_1(0,10)"
   ]
  },
  {
   "cell_type": "code",
   "execution_count": null,
   "metadata": {},
   "outputs": [],
   "source": [
    "#prime number without using recursion\n",
    "\n",
    "num = eval(input())\n",
    "count = 0\n",
    "for i in range(2,num):\n",
    "    if num%i==0:\n",
    "        count+=1        \n",
    "    else:\n",
    "        pass\n",
    "if count==1:\n",
    "    print(\"not prime\")\n",
    "else:\n",
    "    print(\"prime\")\n",
    "\n",
    "#using recursion\n",
    "#base condition for recursion:\n",
    "def primeCheck(i,n):\n",
    "    if i==n:\n",
    "        return 2\n",
    "    if n%i==0:\n",
    "        return False\n",
    "    primeCheck(i+1,n)\n",
    "n = eval(input())\n",
    "print(primeCheck(2,n))"
   ]
  },
  {
   "cell_type": "code",
   "execution_count": null,
   "metadata": {},
   "outputs": [],
   "source": [
    "#chech if a string is palindrome using recursion\n",
    "\n",
    "def palindrome(str,i,j):\n",
    "    if i>j:\n",
    "        return True\n",
    "    if str[i]!=str[j]:\n",
    "        return False\n",
    "    return palindrome(str,i+1,j-1)\n",
    "\n",
    "str = input()\n",
    "palindrome(str,i=0,j=len(str)-1)"
   ]
  },
  {
   "cell_type": "markdown",
   "metadata": {},
   "source": [
    "#factorial\n",
    "#fibonnaci\n",
    "#sum of elements of an array\n",
    "#reverse a array using recursion"
   ]
  },
  {
   "cell_type": "code",
   "execution_count": 40,
   "metadata": {},
   "outputs": [
    {
     "name": "stdout",
     "output_type": "stream",
     "text": [
      "120\n"
     ]
    }
   ],
   "source": [
    "#factorial\n",
    "\n",
    "def factorial(n):\n",
    "    if n==1:\n",
    "        return n\n",
    "    return n*factorial(n-1)\n",
    "n = eval(input())\n",
    "print(factorial(n))"
   ]
  },
  {
   "cell_type": "code",
   "execution_count": 49,
   "metadata": {},
   "outputs": [
    {
     "name": "stdout",
     "output_type": "stream",
     "text": [
      "7\n"
     ]
    }
   ],
   "source": [
    "#sum of elements of array\n",
    "\n",
    "'''arr = [1,2,3,4]\n",
    "sum = 0\n",
    "for i in range(len(arr)):\n",
    "    sum = sum + arr[i]\n",
    "print(sum)'''\n",
    "\n",
    "def sumArray(arr,i,sum):\n",
    "    if arr[i]==arr[len(arr)-1]:\n",
    "        return sum\n",
    "    sum+=arr[i]\n",
    "    return sum+sumArray(arr,i+1,sum)\n",
    "\n",
    "arr = [1,2,3]\n",
    "print(sumArray(arr,i=0,sum=0))"
   ]
  },
  {
   "cell_type": "code",
   "execution_count": 2,
   "metadata": {},
   "outputs": [
    {
     "name": "stdout",
     "output_type": "stream",
     "text": [
      "[4, 3, 2, 1]\n"
     ]
    }
   ],
   "source": [
    "def pp(arr,i,j):\n",
    "    if i>j:\n",
    "        return arr\n",
    "    arr[i],arr[j]==arr[j],arr[i]\n",
    "    return pp(arr,i+1,j-1)\n",
    "\n",
    "arr = [1,2,3,4]\n",
    "i=0\n",
    "j=len(arr)-1\n",
    "print(pp(arr,i,j))\n"
   ]
  },
  {
   "cell_type": "code",
   "execution_count": 21,
   "metadata": {},
   "outputs": [
    {
     "name": "stdout",
     "output_type": "stream",
     "text": [
      "[2]\n",
      "[2, [2, 6], [2, 9]]\n",
      "[2, [2, 6], [2, 9], 6]\n",
      "[2, [2, 6], [2, 9], 6, [6, 9]]\n",
      "[2, [2, 6], [2, 9], 6, [6, 9], 9]\n",
      "[2, [2, 6], [2, 9], 6, [6, 9], 9]\n",
      "[2, [2, 6], [2, 9], 6, [6, 9], 9, [2, 6, 9], None]\n"
     ]
    }
   ],
   "source": [
    "#print all subsequences of a given string/array\n",
    "\n",
    "arr = [2,6,9]\n",
    "arr2 = []\n",
    "for i in range(len(arr)):\n",
    "    arr2.append(arr[i])\n",
    "    print(arr2)\n",
    "    for j in range(i+1,len(arr)):\n",
    "        if [arr[i],arr[j]] not in arr2:\n",
    "            arr2.append([arr[i],arr[j]])\n",
    "    print(arr2)\n",
    "arr2.append(arr)\n",
    "arr2.append(None)\n",
    "print(arr2)"
   ]
  },
  {
   "cell_type": "code",
   "execution_count": 22,
   "metadata": {},
   "outputs": [
    {
     "name": "stdout",
     "output_type": "stream",
     "text": [
      "Example 1 Output: 2\n",
      "Example 2 Output: 2\n"
     ]
    }
   ],
   "source": [
    "def subarray_sum(nums, k):\n",
    "    count = 0\n",
    "    sum_map = {0: 1} \n",
    "    current_sum = 0\n",
    "\n",
    "    for num in nums:\n",
    "        current_sum += num\n",
    "        if current_sum - k in sum_map:\n",
    "            count += sum_map[current_sum - k]\n",
    "        sum_map[current_sum] = sum_map.get(current_sum, 0) + 1\n",
    "\n",
    "    return count\n",
    "\n",
    "# Example 1\n",
    "nums1 = [1, 1, 1]\n",
    "k1 = 2\n",
    "result1 = subarray_sum(nums1, k1)\n",
    "print(f\"Example 1 Output: {result1}\")\n",
    "\n",
    "# Example 2\n",
    "nums2 = [1, 2, 3]\n",
    "k2 = 3\n",
    "result2 = subarray_sum(nums2, k2)\n",
    "print(f\"Example 2 Output: {result2}\")\n"
   ]
  },
  {
   "cell_type": "code",
   "execution_count": 21,
   "metadata": {},
   "outputs": [
    {
     "name": "stdout",
     "output_type": "stream",
     "text": [
      "[1, 2, 4, 5, 3, 6]\n"
     ]
    }
   ],
   "source": [
    "arr = [1,2,3,4,5,6]\n",
    "for i in range(len(arr)-2):\n",
    "    if arr[i]+arr[i+2]//2==arr[i+1]:\n",
    "        k = arr.pop(arr[i+1])\n",
    "        arr.append(k)\n",
    "print(arr)"
   ]
  },
  {
   "cell_type": "code",
   "execution_count": 29,
   "metadata": {},
   "outputs": [
    {
     "name": "stdout",
     "output_type": "stream",
     "text": [
      "[[1, 2, 3], [1, 3, 2], [2, 1, 3], [2, 3, 1], [3, 1, 2], [3, 2, 1]]\n",
      "[3, 2, 1]\n"
     ]
    }
   ],
   "source": [
    "#permutation for 3 elemental list\n",
    "\n",
    "a = [1,2,3]\n",
    "b = []\n",
    "inputs = list(map(int, input().split()))\n",
    "for i in range(len(a)):\n",
    "    for j in range(len(a)):\n",
    "        for k in range(len(a)):\n",
    "            if a[i] != a[j] and a[j] != a[k] and a[k] != a[i]:\n",
    "                b.append([a[i],a[j],a[k]])\n",
    "print(b)\n",
    "for i in range(len(b)):\n",
    "    if inputs == b[i]:\n",
    "        print(b[i+1])"
   ]
  },
  {
   "cell_type": "code",
   "execution_count": 20,
   "metadata": {},
   "outputs": [
    {
     "data": {
      "text/plain": [
       "2"
      ]
     },
     "execution_count": 20,
     "metadata": {},
     "output_type": "execute_result"
    }
   ],
   "source": [
    "#brute force approach for subsequence sum for a target value\n",
    "\n",
    "n=eval(input())\n",
    "arr=(list(map(int, input().split())))\n",
    "count=0\n",
    "target=eval(input())\n",
    "\n",
    "for i in range(n):\n",
    "    sum=arr[i]\n",
    "    for j in range(i,n):\n",
    "        if sum==target:\n",
    "            count+=1\n",
    "            break\n",
    "        sum+=arr[j]\n",
    "count\n",
    "\n",
    "#better approach with better tc and sc\n",
    "\n",
    "count = 0\n",
    "target = 7\n",
    "prev = 0\n",
    "summ = 0\n",
    "i = 0\n",
    "\n",
    "while i<n:\n",
    "    print(summ)\n",
    "    if summ==target:\n",
    "        count+=1\n",
    "        summ=summ-arr[prev]\n",
    "        prev = i\n",
    "    elif summ>target:\n",
    "        summ=summ-arr[prev]\n",
    "        prev+=1\n",
    "    else:\n",
    "        summ+=arr[i]\n",
    "        i+=1\n",
    "count"
   ]
  },
  {
   "cell_type": "code",
   "execution_count": null,
   "metadata": {},
   "outputs": [],
   "source": [
    "import sys\n",
    "\n",
    "arr = [-2,1,-3,4,-1,2,1,-5,4]\n",
    "maxsum = sys.maxsize()+1\n",
    "for i in range(n):\n",
    "    summ=arr[i]\n",
    "    for j in range(i+1,n):\n",
    "        summ=arr[j]\n",
    "        if summ>maxsum:\n",
    "            maxsum=summ\n",
    "            "
   ]
  }
 ],
 "metadata": {
  "kernelspec": {
   "display_name": "Python 3",
   "language": "python",
   "name": "python3"
  },
  "language_info": {
   "codemirror_mode": {
    "name": "ipython",
    "version": 3
   },
   "file_extension": ".py",
   "mimetype": "text/x-python",
   "name": "python",
   "nbconvert_exporter": "python",
   "pygments_lexer": "ipython3",
   "version": "3.11.4"
  }
 },
 "nbformat": 4,
 "nbformat_minor": 2
}
