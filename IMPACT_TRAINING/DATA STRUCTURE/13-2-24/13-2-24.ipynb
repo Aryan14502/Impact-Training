{
 "cells": [
  {
   "cell_type": "code",
   "execution_count": null,
   "metadata": {},
   "outputs": [],
   "source": [
    "# unbounded knapsack problem\n",
    "\n",
    "\n",
    "\n",
    "\n",
    "\n",
    "w=7\n",
    "arrPoints=[2,3,1,3,4]\n",
    "arrActivity=[2,3,4,1,5]\n"
   ]
  },
  {
   "cell_type": "code",
   "execution_count": null,
   "metadata": {},
   "outputs": [],
   "source": [
    "def knap(values,weights,n,w):\n",
    "    if n\n",
    "    nottake=0+maxprofit(values,weights,n-1,w)\n",
    "    if w>=weights[n]:\n",
    "        take=values[n]+maxprofit(values,weights,n-1,w-weights)\n",
    "    return (take,nottake)\n",
    "        \n",
    "def maxprofit(values,weights,n,w):\n",
    "    knap(values,weights,n-1,w) \n",
    "    \n",
    "    \n",
    "    \n",
    "    \n",
    "    "
   ]
  }
 ],
 "metadata": {
  "kernelspec": {
   "display_name": "Python 3",
   "language": "python",
   "name": "python3"
  },
  "language_info": {
   "codemirror_mode": {
    "name": "ipython",
    "version": 3
   },
   "file_extension": ".py",
   "mimetype": "text/x-python",
   "name": "python",
   "nbconvert_exporter": "python",
   "pygments_lexer": "ipython3",
   "version": "3.11.4"
  }
 },
 "nbformat": 4,
 "nbformat_minor": 2
}
