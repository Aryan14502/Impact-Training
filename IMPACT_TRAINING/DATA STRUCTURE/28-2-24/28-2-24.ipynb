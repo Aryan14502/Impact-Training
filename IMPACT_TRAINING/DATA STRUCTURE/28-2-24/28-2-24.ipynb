{
 "cells": [
  {
   "cell_type": "code",
   "execution_count": null,
   "metadata": {},
   "outputs": [],
   "source": [
    "#avl tree\n",
    "\n",
    "import sys\n",
    "\n",
    "class node:\n",
    "    def __init__(self,key):\n",
    "        self.key = key\n",
    "        self.left = None\n",
    "        self.right = None\n",
    "        self.height = 1\n",
    "\n",
    "class AVLtree:\n",
    "    def __init__(self,key):\n",
    "        \n",
    "    \n",
    "    def insert_node(self,root,key):\n",
    "        if not root:\n",
    "            return node(key)\n",
    "        elif key<root.key:\n",
    "            root.left = self.insert_node(root.left,key)\n",
    "        else:\n",
    "            root.right = self.insert_node(root.right,key)"
   ]
  },
  {
   "cell_type": "markdown",
   "metadata": {},
   "source": [
    "A red-black tree satisfies the following properties:\n",
    "\n",
    "Red/Black property : Every node is colored, either red or black\n",
    "Root Property : The root is black\n",
    "Leaf Property : Every Leaf (NIL) is black\n",
    "Red Property : If a red node has children then, the children are always black\n",
    "Depth Property : For each node, any simple path from this node to any of its descendant leaf has the same      \n",
    "                 black-depht (the number of black nodes).\n",
    "\n",
    "Each node has the following attributes:\n",
    "\n",
    "color\n",
    "key\n",
    "leftChild\n",
    "rightChild\n",
    "parent(except root node)\n",
    "\n",
    "the red-black color is meant for balancing the tree.\n",
    "\n",
    "the limitations put on the node colors ensure that any simple path from the root to a leaf is not more than twice as long as any other such path."
   ]
  },
  {
   "cell_type": "code",
   "execution_count": 6,
   "metadata": {},
   "outputs": [
    {
     "name": "stdout",
     "output_type": "stream",
     "text": [
      "[3]\n"
     ]
    }
   ],
   "source": []
  }
 ],
 "metadata": {
  "kernelspec": {
   "display_name": "Python 3",
   "language": "python",
   "name": "python3"
  },
  "language_info": {
   "codemirror_mode": {
    "name": "ipython",
    "version": 3
   },
   "file_extension": ".py",
   "mimetype": "text/x-python",
   "name": "python",
   "nbconvert_exporter": "python",
   "pygments_lexer": "ipython3",
   "version": "3.11.4"
  }
 },
 "nbformat": 4,
 "nbformat_minor": 2
}
