{
 "cells": [
  {
   "cell_type": "code",
   "execution_count": 45,
   "metadata": {},
   "outputs": [
    {
     "ename": "IndexError",
     "evalue": "list index out of range",
     "output_type": "error",
     "traceback": [
      "\u001b[1;31m---------------------------------------------------------------------------\u001b[0m",
      "\u001b[1;31mIndexError\u001b[0m                                Traceback (most recent call last)",
      "Cell \u001b[1;32mIn[45], line 16\u001b[0m\n\u001b[0;32m     14\u001b[0m \u001b[38;5;28;01mwhile\u001b[39;00m(i\u001b[38;5;241m<\u001b[39m\u001b[38;5;241m=\u001b[39m\u001b[38;5;28mlen\u001b[39m(arr)):\n\u001b[0;32m     15\u001b[0m     \u001b[38;5;28;01mif\u001b[39;00m i\u001b[38;5;241m!=\u001b[39mj \u001b[38;5;129;01mand\u001b[39;00m j\u001b[38;5;241m!=\u001b[39mk \u001b[38;5;129;01mand\u001b[39;00m k\u001b[38;5;241m!=\u001b[39mi:\n\u001b[1;32m---> 16\u001b[0m         \u001b[38;5;28;01mif\u001b[39;00m (\u001b[43marr\u001b[49m\u001b[43m[\u001b[49m\u001b[43mi\u001b[49m\u001b[43m]\u001b[49m \u001b[38;5;241m+\u001b[39m arr[j] \u001b[38;5;241m+\u001b[39m arr[k])\u001b[38;5;241m==\u001b[39mkey:\n\u001b[0;32m     17\u001b[0m             c\u001b[38;5;241m.\u001b[39mappend([i,j,k])\n\u001b[0;32m     18\u001b[0m         i\u001b[38;5;241m+\u001b[39m\u001b[38;5;241m=\u001b[39m\u001b[38;5;241m1\u001b[39m \n",
      "\u001b[1;31mIndexError\u001b[0m: list index out of range"
     ]
    }
   ],
   "source": [
    "#three sum problem\n",
    "\n",
    "arr = [2,9,3,4,6]\n",
    "key = eval(input())\n",
    "'''for i in range(len(arr)):\n",
    "    for j in range(i+1,len(arr)):\n",
    "        for k in range(j+1,len(arr)):\n",
    "            if key == (arr[i]+arr[j]+arr[k]):\n",
    "                print(f\"key summed for indexes {i},{j},{k}\")  '''\n",
    "i = 0\n",
    "j = 1\n",
    "k = 2\n",
    "c = []\n",
    "while(i<=len(arr)):\n",
    "    if i!=j and j!=k and k!=i:\n",
    "        if (arr[i] + arr[j] + arr[k])==key:\n",
    "            c.append([i,j,k])\n",
    "        i+=1 \n",
    "    else:\n",
    "        i+=1\n",
    "while(j<=len(arr)):\n",
    "    if i!=j and j!=k and k!=i:\n",
    "        if (arr[i] + arr[j] + arr[k])==key:\n",
    "            c.append([i,j,k])\n",
    "        j+=1 \n",
    "    else:\n",
    "        j+=1\n",
    "while(k<=len(arr)):\n",
    "    if i!=j and j!=k and k!=i:\n",
    "        if (arr[i] + arr[j] + arr[k])==key:\n",
    "            c.append([i,j,k])\n",
    "        k+=1 \n",
    "    else:\n",
    "        k+=1\n",
    "print(c)"
   ]
  },
  {
   "cell_type": "code",
   "execution_count": 26,
   "metadata": {},
   "outputs": [
    {
     "name": "stdout",
     "output_type": "stream",
     "text": [
      "[0, 0, 0, 2, 2, 2, 1, 1, 1]\n",
      "[0, 0, 0, 1, 1, 1, 2, 2, 2]\n"
     ]
    }
   ],
   "source": [
    "#sort array of zeros ones and twos\n",
    "\n",
    "arr = [1,1,2,0,2,2,0,1,0]\n",
    "i = 0\n",
    "j = len(arr)-1\n",
    "\n",
    "while(i<j):\n",
    "    if arr[i]>arr[j]:\n",
    "        arr[i],arr[j]=arr[j],arr[i]\n",
    "        i+=1\n",
    "        j-=1\n",
    "    elif arr[i]==arr[j]:\n",
    "        j-=1\n",
    "    elif arr[i]<arr[j]:\n",
    "        j-=1\n",
    "print(arr)\n",
    "i = 0\n",
    "j = len(arr)-1\n",
    "while(i<j):\n",
    "    if arr[i]<arr[j]:\n",
    "        i+=1\n",
    "    elif arr[i]>arr[j]:\n",
    "        arr[i],arr[j]=arr[j],arr[i]\n",
    "        i+=1\n",
    "        j-=1\n",
    "print(arr)"
   ]
  },
  {
   "cell_type": "code",
   "execution_count": 31,
   "metadata": {},
   "outputs": [
    {
     "name": "stdout",
     "output_type": "stream",
     "text": [
      "3\n"
     ]
    }
   ],
   "source": [
    "#find palindromic partition\n",
    "\n",
    "str = \"aabc\"\n",
    "b = list(str)\n",
    "count = 0\n",
    "c = []\n",
    "for i in range(len(b)):\n",
    "    if b[i] not in c:\n",
    "        c.append(b[i])\n",
    "        count+=1\n",
    "print(count)"
   ]
  }
 ],
 "metadata": {
  "kernelspec": {
   "display_name": "Python 3",
   "language": "python",
   "name": "python3"
  },
  "language_info": {
   "codemirror_mode": {
    "name": "ipython",
    "version": 3
   },
   "file_extension": ".py",
   "mimetype": "text/x-python",
   "name": "python",
   "nbconvert_exporter": "python",
   "pygments_lexer": "ipython3",
   "version": "3.11.4"
  }
 },
 "nbformat": 4,
 "nbformat_minor": 2
}
