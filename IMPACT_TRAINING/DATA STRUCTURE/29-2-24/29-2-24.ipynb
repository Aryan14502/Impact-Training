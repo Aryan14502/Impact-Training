{
 "cells": [
  {
   "cell_type": "markdown",
   "metadata": {},
   "source": [
    "Heap is a CBT with a property known as max heap or min heap\n",
    "In max heap root will be greater than its children\n",
    "In min heap root will be smaller than its children"
   ]
  },
  {
   "cell_type": "code",
   "execution_count": 7,
   "metadata": {},
   "outputs": [
    {
     "name": "stdout",
     "output_type": "stream",
     "text": [
      "Enter 1 for insert\n",
      "Enter 2 for delete\n",
      "Enter 3 for print\n",
      "Enter 4 for exit\n"
     ]
    },
    {
     "ename": "NameError",
     "evalue": "name 'size' is not defined",
     "output_type": "error",
     "traceback": [
      "\u001b[1;31m---------------------------------------------------------------------------\u001b[0m",
      "\u001b[1;31mNameError\u001b[0m                                 Traceback (most recent call last)",
      "Cell \u001b[1;32mIn[7], line 38\u001b[0m\n\u001b[0;32m     36\u001b[0m choice\u001b[38;5;241m=\u001b[39m\u001b[38;5;28meval\u001b[39m(\u001b[38;5;28minput\u001b[39m())\n\u001b[0;32m     37\u001b[0m \u001b[38;5;28;01mif\u001b[39;00m choice \u001b[38;5;241m==\u001b[39m \u001b[38;5;241m1\u001b[39m:\n\u001b[1;32m---> 38\u001b[0m     \u001b[43mheap1\u001b[49m\u001b[38;5;241;43m.\u001b[39;49m\u001b[43minsert\u001b[49m\u001b[43m(\u001b[49m\u001b[38;5;28;43meval\u001b[39;49m\u001b[43m(\u001b[49m\u001b[38;5;28;43minput\u001b[39;49m\u001b[43m(\u001b[49m\u001b[38;5;124;43m\"\u001b[39;49m\u001b[38;5;124;43mEnter value\u001b[39;49m\u001b[38;5;124;43m\"\u001b[39;49m\u001b[43m)\u001b[49m\u001b[43m)\u001b[49m\u001b[43m)\u001b[49m\n\u001b[0;32m     39\u001b[0m \u001b[38;5;28;01mif\u001b[39;00m choice \u001b[38;5;241m==\u001b[39m \u001b[38;5;241m2\u001b[39m:\n\u001b[0;32m     40\u001b[0m     heap1\u001b[38;5;241m.\u001b[39mdelete()\n",
      "Cell \u001b[1;32mIn[7], line 20\u001b[0m, in \u001b[0;36mheap.insert\u001b[1;34m(self, value)\u001b[0m\n\u001b[0;32m     18\u001b[0m     \u001b[38;5;28;01mreturn\u001b[39;00m\n\u001b[0;32m     19\u001b[0m \u001b[38;5;28mself\u001b[39m\u001b[38;5;241m.\u001b[39msize\u001b[38;5;241m+\u001b[39m\u001b[38;5;241m=\u001b[39m\u001b[38;5;241m1\u001b[39m\n\u001b[1;32m---> 20\u001b[0m \u001b[38;5;28mself\u001b[39m\u001b[38;5;241m.\u001b[39mheap[\u001b[43msize\u001b[49m]\u001b[38;5;241m=\u001b[39mvalue\n\u001b[0;32m     21\u001b[0m p\u001b[38;5;241m=\u001b[39m\u001b[38;5;28mself\u001b[39m\u001b[38;5;241m.\u001b[39mparent(size)\n\u001b[0;32m     22\u001b[0m child\u001b[38;5;241m=\u001b[39m\u001b[38;5;28mself\u001b[39m\u001b[38;5;241m.\u001b[39msize\n",
      "\u001b[1;31mNameError\u001b[0m: name 'size' is not defined"
     ]
    }
   ],
   "source": [
    "class heap:\n",
    "    def __init__(self,maxsize):\n",
    "        self.maxsize=maxsize\n",
    "        self.size=0\n",
    "        self.heap=[0]*(maxsize+1)\n",
    "        #self.heap[0]=sys.maxsize\n",
    "        self.front=1\n",
    "    def parent(self,index):\n",
    "        return index\n",
    "    \n",
    "    def swap(self,parent,child):\n",
    "        self.heap[parent],self.heap[child]=self.heap[child],self.heap[parent]\n",
    "        return\n",
    "    \n",
    "    def insert(self,value):\n",
    "        if self.size>self.maxsize:\n",
    "            print(\"heap is full\")\n",
    "            return\n",
    "        self.size+=1\n",
    "        self.heap[size]=value\n",
    "        p=self.parent(size)\n",
    "        child=self.size\n",
    "        while self.heap[p]<self.heap[child]:\n",
    "            self.swap[p,child]\n",
    "            child=p\n",
    "            p=self.parent(child)\n",
    "    \n",
    "    def print(self):\n",
    "        for i in range(1,self.size+1):\n",
    "            print(self.heap[i],end=\" \") \n",
    "\n",
    "heap1=heap(10)\n",
    "print(\"Enter 1 for insert\",\"Enter 2 for delete\",\"Enter 3 for print\",\"Enter 4 for exit\",sep=\"\\n\")\n",
    "\n",
    "while True:\n",
    "    choice=eval(input())\n",
    "    if choice == 1:\n",
    "        heap1.insert(eval(input(\"Enter value\")))\n",
    "    if choice == 2:\n",
    "        heap1.delete()\n",
    "    if choice == 3:\n",
    "        heap1.print()\n",
    "    if choice == 4:\n",
    "        break       \n",
    "     \n",
    "        "
   ]
  },
  {
   "cell_type": "code",
   "execution_count": null,
   "metadata": {},
   "outputs": [],
   "source": [
    "def leftchildren(self,index):\n",
    "    return 2+index\n",
    "def rightchildren(self,index):\n",
    "    return 2+index+1\n",
    "def heapify(self,pos):\n",
    "    if not self.isLeaf(pos):\n",
    "        if (self.heap[pos]<self.heap[self.leftchildren(pos)] or self.heap[pos]<self.heap[self.roghtchildren(pos)]) \n"
   ]
  }
 ],
 "metadata": {
  "kernelspec": {
   "display_name": "Python 3",
   "language": "python",
   "name": "python3"
  },
  "language_info": {
   "codemirror_mode": {
    "name": "ipython",
    "version": 3
   },
   "file_extension": ".py",
   "mimetype": "text/x-python",
   "name": "python",
   "nbconvert_exporter": "python",
   "pygments_lexer": "ipython3",
   "version": "3.11.4"
  }
 },
 "nbformat": 4,
 "nbformat_minor": 2
}
