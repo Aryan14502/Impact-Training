{
 "cells": [
  {
   "cell_type": "code",
   "execution_count": null,
   "metadata": {},
   "outputs": [],
   "source": [
    "n = 6\n",
    "k=2\n",
    "for i in range(n):\n",
    "    print()\n",
    "    for j in range(n-1-i):\n",
    "        print(\"*\",end=\"\")\n",
    "    for j in range(1,i+1):\n",
    "        if i+1<n:\n",
    "            print(\" \",end=\"\")\n",
    "    for j in range(1,i+1):\n",
    "        if i+1<n:\n",
    "            print(\" \",end=\"\")\n",
    "    for j in range(n-1-i):\n",
    "        print(\"*\",end=\"\")\n",
    "for i in range(n-1):\n",
    "    for j in range(i+1):\n",
    "        print(\"*\",end=\"\")\n",
    "    for j in range(i+1,n-1):\n",
    "        print(\" \",end=\"\")\n",
    "    for j in range(i+1,n-1):\n",
    "        print(\" \",end=\"\")\n",
    "    for j in range(i+1):\n",
    "        print(\"*\",end=\"\")\n",
    "    print()\n",
    "   \n",
    "    \n"
   ]
  },
  {
   "cell_type": "code",
   "execution_count": null,
   "metadata": {},
   "outputs": [],
   "source": [
    "n = 4\n",
    "\n",
    "# for i in range(n):\n",
    "#     if i == 0 or i == n-1:\n",
    "#         for j in range(n):\n",
    "#             print(\"*\",end=\"\")\n",
    "#     else:\n",
    "#         for j in range(n):\n",
    "#             if j==0 or j==(n-1):\n",
    "#                 print(\"*\",end=\"\")\n",
    "#             else:\n",
    "#                 print(\" \",end=\"\")\n",
    "#         print()\n",
    "#     print()\n",
    "\n",
    "for i in range(n):\n",
    "    for j in range(n):\n",
    "        if (i==0 or i==(n-1) or (j==0 or j==(n-1))):\n",
    "            print(\"*\",end=\"\")\n",
    "        else:\n",
    "            print(\" \",end=\"\")\n",
    "    print()"
   ]
  },
  {
   "cell_type": "code",
   "execution_count": null,
   "metadata": {},
   "outputs": [],
   "source": [
    "#count digit\n",
    "\n",
    "a = int(input())\n",
    "b=0\n",
    "k=0\n",
    "while(a>0):\n",
    "    a = a//10\n",
    "    k=k+1\n",
    "print(k)"
   ]
  },
  {
   "cell_type": "code",
   "execution_count": null,
   "metadata": {},
   "outputs": [],
   "source": [
    "#reverse number\n",
    "\n",
    "# a = 5678\n",
    "# a = str(a)\n",
    "# print(a[::-1])\n",
    "\n",
    "a = 6789\n",
    "list = []\n",
    "while():\n",
    "    list.append(a%10)"
   ]
  },
  {
   "cell_type": "code",
   "execution_count": null,
   "metadata": {},
   "outputs": [],
   "source": [
    "a = 153\n",
    "temp = a\n",
    "list = []\n",
    "k=0\n",
    "ans = 0\n",
    "while(a>0):\n",
    "    a = a//10\n",
    "    k=k+1\n",
    "    list.append(temp%10)\n",
    "    temp = temp//10\n",
    "for i in list:\n",
    "    ans = ans +  i**k\n",
    "print(ans)\n",
    "if a == ans:\n",
    "    print(\"armstrong\")\n"
   ]
  },
  {
   "cell_type": "code",
   "execution_count": null,
   "metadata": {},
   "outputs": [],
   "source": [
    "#divisor of each\n",
    "\n",
    "divisor = 12\n",
    "i = 1\n",
    "list = []\n",
    "while(i<=divisor):\n",
    "    if divisor%i==0:\n",
    "        list.append(i)\n",
    "    else:\n",
    "        pass\n",
    "    i=i+1\n",
    "print(list)"
   ]
  },
  {
   "cell_type": "code",
   "execution_count": null,
   "metadata": {},
   "outputs": [],
   "source": [
    "a = int(input())\n",
    "for i in range(2,a):\n",
    "    if a%i==0:\n",
    "        print(\"not a prime\")\n",
    "    else:\n",
    "        print(\"prime\")"
   ]
  },
  {
   "cell_type": "code",
   "execution_count": 19,
   "metadata": {},
   "outputs": [
    {
     "name": "stdout",
     "output_type": "stream",
     "text": [
      "2\n"
     ]
    }
   ],
   "source": [
    "def aRecurr(ind,a,targeet):\n",
    "    if ind==len(a):\n",
    "        if targeet == 0:\n",
    "            return 1\n",
    "        return 0\n",
    "    \n",
    "    take = 0\n",
    "    if a[ind]<=targeet:\n",
    "        take = aRecurr(ind+1,a,targeet-a[ind])\n",
    "        \n",
    "        \n",
    "    notTake = aRecurr(ind+1,a,targeet)\n",
    "    \n",
    "    \n",
    "    return take + notTake\n",
    "\n",
    "\n",
    "\n",
    "a = [1,5,11,5]\n",
    "sum = 0\n",
    "for i in range(len(a)):\n",
    "    sum += a[i]\n",
    "    \n",
    "if (sum%2==1):\n",
    "    print(\"0\")\n",
    "else:\n",
    "    targeet = sum//2\n",
    "    b = aRecurr(0,a,targeet)\n",
    "    print(b)\n",
    "\n"
   ]
  }
 ],
 "metadata": {
  "kernelspec": {
   "display_name": "Python 3",
   "language": "python",
   "name": "python3"
  },
  "language_info": {
   "codemirror_mode": {
    "name": "ipython",
    "version": 3
   },
   "file_extension": ".py",
   "mimetype": "text/x-python",
   "name": "python",
   "nbconvert_exporter": "python",
   "pygments_lexer": "ipython3",
   "version": "3.11.4"
  }
 },
 "nbformat": 4,
 "nbformat_minor": 2
}
