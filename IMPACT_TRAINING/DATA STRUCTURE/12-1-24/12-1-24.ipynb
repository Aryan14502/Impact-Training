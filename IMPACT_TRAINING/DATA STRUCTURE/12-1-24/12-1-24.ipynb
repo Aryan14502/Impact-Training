{
 "cells": [
  {
   "cell_type": "code",
   "execution_count": null,
   "metadata": {},
   "outputs": [],
   "source": [
    "\n",
    "li = [10,45,29,67,99,100,15]\n",
    "key = int(input())\n",
    "count = 0\n",
    "for i in li:\n",
    "    if (i==key):\n",
    "        count += 1\n",
    "    else:\n",
    "        count = 0\n",
    "if (count == 1):\n",
    "    print(\"key found\")"
   ]
  },
  {
   "cell_type": "code",
   "execution_count": null,
   "metadata": {},
   "outputs": [],
   "source": [
    "def liner_search(alist, key):\n",
    "    for i range(len(alist)):\n",
    "        if alist[i] == key:\n",
    "            return i\n",
    "\n",
    "li = [int(x) for x in input().split()]\n",
    "key = int(input('The number to search for : '))\n",
    "\n",
    "index  = linear_search(li,key)\n",
    "\n",
    "if index<0:\n",
    "    print(\"key wat not found\") \n",
    "else:\n",
    "    print(\"key was found\")\n",
    "    \n",
    "    "
   ]
  },
  {
   "cell_type": "code",
   "execution_count": null,
   "metadata": {},
   "outputs": [],
   "source": [
    "#linear seacrh using index built-in function\n",
    "li = [int(x) for x in input().split()]\n",
    "key = int(input('The number to search for : '))\n",
    "print(li.index(key) if key in li else -1)"
   ]
  },
  {
   "cell_type": "code",
   "execution_count": 13,
   "metadata": {},
   "outputs": [
    {
     "ename": "SyntaxError",
     "evalue": "'return' outside function (3302459226.py, line 11)",
     "output_type": "error",
     "traceback": [
      "\u001b[1;36m  Cell \u001b[1;32mIn[13], line 11\u001b[1;36m\u001b[0m\n\u001b[1;33m    return mid\u001b[0m\n\u001b[1;37m    ^\u001b[0m\n\u001b[1;31mSyntaxError\u001b[0m\u001b[1;31m:\u001b[0m 'return' outside function\n"
     ]
    }
   ],
   "source": [
    "#binary search in sorted array \n",
    "\n",
    "li = [10,20,30,40,50,60,70,80,90,100]\n",
    "key = int(input(\"Key to find : \"))\n",
    "low = 0\n",
    "high = (len(li)-1)\n",
    "while (low <= high):\n",
    "    mid = low+high//2\n",
    "    if (mid == key):\n",
    "        print(mid)\n",
    "        return mid\n",
    "    elif (key < li[mid]):\n",
    "        mid = high-1\n",
    "    else :\n",
    "        mid = low+1\n",
    "return -1\n"
   ]
  },
  {
   "cell_type": "code",
   "execution_count": null,
   "metadata": {},
   "outputs": [],
   "source": [
    "def fib(n):\n",
    "    f = 0\n",
    "    s = 1\n",
    "    for i in range (2,n+1):\n",
    "        next = f+3\n",
    "        f = 3\n",
    "        s = next \n",
    "    print (fib)"
   ]
  }
 ],
 "metadata": {
  "kernelspec": {
   "display_name": "Python 3",
   "language": "python",
   "name": "python3"
  },
  "language_info": {
   "codemirror_mode": {
    "name": "ipython",
    "version": 3
   },
   "file_extension": ".py",
   "mimetype": "text/x-python",
   "name": "python",
   "nbconvert_exporter": "python",
   "pygments_lexer": "ipython3",
   "version": "3.11.4"
  }
 },
 "nbformat": 4,
 "nbformat_minor": 2
}
