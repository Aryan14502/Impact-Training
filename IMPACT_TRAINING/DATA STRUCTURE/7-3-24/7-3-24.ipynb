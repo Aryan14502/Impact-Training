{
 "cells": [
  {
   "cell_type": "code",
   "execution_count": null,
   "metadata": {},
   "outputs": [],
   "source": [
    "def insertionsort(arr):\n",
    "    for i in range(1,len(arr)):\n",
    "        if arr[i]<arr[i-1]:\n",
    "            temp=arr[i]\n",
    "            index=binarysearch(arr,arr[i],0,i-1)\n",
    "            shift(index,i,arr)\n",
    "            arr[index]=temp\n",
    "def mergesort(i,j,m,n):\n",
    "    length=j-i+1 if j-i<n-m else n-m+1\n",
    "    \n",
    "arr = list(map(int,input().split()))\n",
    "insertionsort((arr))\n"
   ]
  }
 ],
 "metadata": {
  "language_info": {
   "name": "python"
  }
 },
 "nbformat": 4,
 "nbformat_minor": 2
}
