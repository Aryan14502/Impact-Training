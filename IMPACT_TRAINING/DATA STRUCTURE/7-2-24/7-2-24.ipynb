{
 "cells": [
  {
   "cell_type": "markdown",
   "metadata": {},
   "source": [
    "1: Memorization (top down approach)\n",
    "   steps for memorization - declare a dp array\n",
    "                          - store subproblems solution in dp array\n",
    "                          - before using recursion for a problem check if that problems already being sorted\n",
    "2: Tabulation (bottom up approach)\n",
    "   steps for tabulation - declare a dp array and initialize the value considering the base case of memorization\n",
    "                        - check in memorization what were the problems or indexes you were finding (that is     builing something like 1,2,3,4,...,n so that you can apply iteration)\n",
    "                        -return n-1 from dp array\n",
    "3: space optimization over dp array(or tabulation) ~ check if dp array can be removed\n"
   ]
  },
  {
   "cell_type": "code",
   "execution_count": null,
   "metadata": {},
   "outputs": [],
   "source": [
    "# fibonacci using recurrsion\n",
    "\n",
    "\n",
    "'''def func(n):\n",
    "    if(n==0 or n==1):\n",
    "        return 1\n",
    "   \n",
    "    return func(n-1)+func(n-2)\n",
    "\n",
    "n=int(input())\n",
    "func(n)'''\n",
    "\n",
    "\n",
    "# fibonacci using recurrsion\n",
    "\n",
    "\n",
    "'''def func(n,dp):\n",
    "    if(n==0 or n==1):\n",
    "        return n\n",
    "   \n",
    "    if dp[n]!=-1:\n",
    "        return dp[n]\n",
    "   \n",
    "    dp[n]=func(n-1,dp)+func(n-2,dp)\n",
    "    return dp[n]\n",
    "\n",
    "n=int(input())\n",
    "\n",
    "dp=[-1]*(n+1)\n",
    "func(n,dp)'''\n",
    "\n",
    "\n",
    "# fibonacci using tabulation method\n",
    "\n",
    "\n",
    "'''n=int(input())\n",
    "dp=[-1]*(n+1)\n",
    "dp[0]=0\n",
    "dp[1]=1\n",
    "\n",
    "for i in range(2,n+1):\n",
    "    dp[i]=dp[i-1]+dp[i-2]\n",
    "print(dp[n])'''\n",
    "\n",
    "# fibonacci space optimization\n",
    "\n",
    "\n",
    "n=int(input())\n",
    "one=0\n",
    "two=1\n",
    "if(n==0):\n",
    "    print(one)\n",
    "if n==1:\n",
    "    print(two)\n",
    "\n",
    "for i in range(2,n+1):\n",
    "    three=one+two\n",
    "    one=two\n",
    "    two=three\n",
    "\n",
    "print(three)"
   ]
  },
  {
   "cell_type": "code",
   "execution_count": 18,
   "metadata": {},
   "outputs": [
    {
     "data": {
      "text/plain": [
       "13"
      ]
     },
     "execution_count": 18,
     "metadata": {},
     "output_type": "execute_result"
    }
   ],
   "source": [
    "#different ways of climbing a stair\n",
    "\n",
    "def stairs(n):\n",
    "    if n==0 or n==1:\n",
    "        return 1\n",
    "    return stairs(n-1)+stairs(n-2)\n",
    "\n",
    "n = eval(input())\n",
    "count = 0\n",
    "stairs(n)"
   ]
  },
  {
   "cell_type": "code",
   "execution_count": null,
   "metadata": {},
   "outputs": [],
   "source": [
    "def helper(i,dp):\n",
    "    if i==0 or i==1:\n",
    "        return 1\n",
    "    if dp[i]!=-1:\n",
    "        return dp[i]\n",
    "    \n",
    "    left  = helper(i-1,dp)\n",
    "    if i>1:\n",
    "        right = helper(i-2,dp)\n",
    "    \n",
    "    dp[i] = (right+left)%(10**9+7)\n",
    "    return dp[i]\n",
    "\n",
    "def countDistinctWays(nStairs):\n",
    "    dp=[-1]*(nStairs+1)\n",
    "    return helper(nStairs,dp)\n"
   ]
  },
  {
   "cell_type": "code",
   "execution_count": null,
   "metadata": {},
   "outputs": [],
   "source": [
    "#frog jump\n",
    "\n",
    "#memoization\n",
    "\n",
    "def f(n):\n",
    "    if n==0:\n",
    "        return n\n",
    "    left = f(n-1)+(arr[n]-arr[n-1])\n",
    "    right = f(n-1)+(arr[n]-arr[n-2])\n",
    "    return min(left,right)\n",
    "    \n",
    "arr = list(map(int,input().split()))\n",
    "f(len(arr))\n",
    "\n",
    "#tabular\n",
    "\n",
    "#space optimization\n"
   ]
  },
  {
   "cell_type": "code",
   "execution_count": 38,
   "metadata": {},
   "outputs": [
    {
     "ename": "AttributeError",
     "evalue": "'list' object has no attribute 'random'",
     "output_type": "error",
     "traceback": [
      "\u001b[1;31m---------------------------------------------------------------------------\u001b[0m",
      "\u001b[1;31mAttributeError\u001b[0m                            Traceback (most recent call last)",
      "Cell \u001b[1;32mIn[38], line 20\u001b[0m\n\u001b[0;32m     18\u001b[0m             \u001b[38;5;28;01melse\u001b[39;00m:\n\u001b[0;32m     19\u001b[0m                 \u001b[38;5;28;01mFalse\u001b[39;00m\n\u001b[1;32m---> 20\u001b[0m \u001b[43mdb\u001b[49m\u001b[38;5;241;43m.\u001b[39;49m\u001b[43mrandom\u001b[49m()\n",
      "\u001b[1;31mAttributeError\u001b[0m: 'list' object has no attribute 'random'"
     ]
    }
   ],
   "source": [
    "\n",
    "bowlsRange=int(input())\n",
    "platesRange=int(input())\n",
    "spoonsRange=int(input())\n",
    "\n",
    "bowlsRate = 0.5\n",
    "spoonsRate = 1 \n",
    "platesRate = 2\n",
    "\n",
    "db=[]\n",
    "\n",
    "for bowls in range(1,bowlsRange):\n",
    "    for spoons in range(1,spoonsRange):\n",
    "        for plates in range(1,platesRange):\n",
    "            if (bowls+spoons+plates)==100 and ((bowlsRate*bowls)+(spoonsRate*spoons)+(platesRate*plates))==100:\n",
    "                db.append([bowls,spoons,plates])   \n",
    "            else:\n",
    "                False\n"
   ]
  },
  {
   "cell_type": "code",
   "execution_count": 4,
   "metadata": {},
   "outputs": [
    {
     "name": "stdout",
     "output_type": "stream",
     "text": [
      "[1, 2, 3, 20, 55]\n",
      "20\n"
     ]
    }
   ],
   "source": [
    "arr = [1,2,3,4,[55,20,1,2,3],5]\n",
    "db=[]\n",
    "for i in range(len(arr)):\n",
    "    if type(arr[i])==type(arr):\n",
    "        db=arr[i]\n",
    "db.sort()\n",
    "print(db)\n",
    "sum=0 \n",
    "for i in range(len(db)):\n",
    "    if i%2!=0:\n",
    "        sum=+db[i]\n",
    "print(sum)"
   ]
  }
 ],
 "metadata": {
  "kernelspec": {
   "display_name": "Python 3",
   "language": "python",
   "name": "python3"
  },
  "language_info": {
   "name": "python",
   "version": "3.11.4"
  }
 },
 "nbformat": 4,
 "nbformat_minor": 2
}
