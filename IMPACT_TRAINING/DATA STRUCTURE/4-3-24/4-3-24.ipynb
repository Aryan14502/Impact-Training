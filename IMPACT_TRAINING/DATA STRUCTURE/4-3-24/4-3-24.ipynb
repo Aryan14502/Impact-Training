{
 "cells": [
  {
   "cell_type": "code",
   "execution_count": 26,
   "metadata": {},
   "outputs": [
    {
     "name": "stdout",
     "output_type": "stream",
     "text": [
      " *********\n",
      "  *******\n",
      "   *****\n",
      "    ***\n",
      "     *\n"
     ]
    }
   ],
   "source": [
    "columb = eval(input())\n",
    "n=0\n",
    "for i in range (columb):\n",
    "    if n>=0:\n",
    "        print(\" \"*n,\"*\"*columb)\n",
    "        columb -=2   \n",
    "        n+=1 \n",
    "    if count > columb:\n",
    "        break\n",
    "    "
   ]
  },
  {
   "cell_type": "code",
   "execution_count": null,
   "metadata": {},
   "outputs": [],
   "source": [
    "def insert(self, string): #parul\n",
    "    itr = self.root\n",
    "    for i in string:\n",
    "        index = ord(i)-ord('a') if i.islower() else ord(i)-ord('A')\n",
    "        if not itr.child[index]:\n",
    "            itr.child[index]=TriNode()\n",
    "        itr = itr.child"
   ]
  }
 ],
 "metadata": {
  "kernelspec": {
   "display_name": "Python 3",
   "language": "python",
   "name": "python3"
  },
  "language_info": {
   "codemirror_mode": {
    "name": "ipython",
    "version": 3
   },
   "file_extension": ".py",
   "mimetype": "text/x-python",
   "name": "python",
   "nbconvert_exporter": "python",
   "pygments_lexer": "ipython3",
   "version": "3.11.4"
  }
 },
 "nbformat": 4,
 "nbformat_minor": 2
}
